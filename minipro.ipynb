{
 "cells": [
  {
   "cell_type": "code",
   "execution_count": 1,
   "id": "b65866e5",
   "metadata": {},
   "outputs": [],
   "source": [
    "import requests\n",
    "from selenium import webdriver\n",
    "from time import sleep\n",
    "from selenium.webdriver.chrome.options import Options\n",
    "from webdriver_manager.chrome import ChromeDriverManager\n",
    "import pandas as pd\n",
    "import string\n",
    "import spacy\n",
    "from nltk.corpus import stopwords\n",
    "from langdetect import detect\n",
    "import re\n",
    "from googletrans import Translator\n",
    "#from google_trans_new import google_translator\n",
    "import googletrans"
   ]
  },
  {
   "cell_type": "code",
   "execution_count": 2,
   "id": "837e6478",
   "metadata": {},
   "outputs": [],
   "source": [
    "#driver = webdriver.Chrome(ChromeDriverManager().install(), options = opciones)\n",
    "opciones=Options()\n",
    "\n",
    "opciones.add_experimental_option('excludeSwitches', ['enable-automation'])\n",
    "opciones.add_experimental_option('useAutomationExtension', False)\n",
    "\n",
    "opciones.headless=False    # si True, no aperece la ventana (headless=no visible)\n",
    "\n",
    "opciones.add_argument('--start-maximized')         # comienza maximizado\n",
    "\n",
    "#opciones.add_argument('user-data-dir=selenium')    # mantiene las cookies\n",
    "\n",
    "#opciones.add_extension('driver_folder/adblock.crx')       # adblocker\n",
    "\n",
    "opciones.add_argument('--incognito') "
   ]
  },
  {
   "cell_type": "code",
   "execution_count": 3,
   "id": "2ee4bba8",
   "metadata": {
    "scrolled": true
   },
   "outputs": [
    {
     "name": "stderr",
     "output_type": "stream",
     "text": [
      "<ipython-input-3-00f320552e41>:2: DeprecationWarning: executable_path has been deprecated, please pass in a Service object\n",
      "  driver = webdriver.Chrome(driver,options = opciones)\n",
      "<ipython-input-3-00f320552e41>:7: DeprecationWarning: find_element_by_* commands are deprecated. Please use find_element() instead\n",
      "  driver.find_element_by_css_selector(\"#cookieChoiceDismiss\").click()\n",
      "<ipython-input-3-00f320552e41>:15: DeprecationWarning: find_element_by_* commands are deprecated. Please use find_element() instead\n",
      "  tit.append(driver.find_element_by_css_selector(f\"#Blog1 > div.blog-posts.hfeed > div:nth-child({p}) > div > div.post-outer > div > h3 > a\").text)\n",
      "<ipython-input-3-00f320552e41>:17: DeprecationWarning: find_element_by_* commands are deprecated. Please use find_element() instead\n",
      "  texto.append(driver.find_element_by_css_selector(f\"#Blog1 > div.blog-posts.hfeed > div:nth-child({p}) > div > div.post-outer > div\").text)\n",
      "<ipython-input-3-00f320552e41>:18: DeprecationWarning: find_element_by_* commands are deprecated. Please use find_element() instead\n",
      "  driver.find_element_by_css_selector(\"#blog-pager-older-link\").click()\n"
     ]
    }
   ],
   "source": [
    "driver = \"./chromedriver.exe\"\n",
    "driver = webdriver.Chrome(driver,options = opciones)\n",
    "\n",
    "url2 = \"http://estersinatxe.blogspot.com/\"\n",
    "driver.get(url2)\n",
    "driver.implicitly_wait(2)\n",
    "driver.find_element_by_css_selector(\"#cookieChoiceDismiss\").click()\n",
    "\n",
    "tit = []\n",
    "texto = []\n",
    "\n",
    "for i in range(1,8): \n",
    "    try:\n",
    "        for p in range(1,8):\n",
    "            tit.append(driver.find_element_by_css_selector(f\"#Blog1 > div.blog-posts.hfeed > div:nth-child({p}) > div > div.post-outer > div > h3 > a\").text)\n",
    "            \n",
    "            texto.append(driver.find_element_by_css_selector(f\"#Blog1 > div.blog-posts.hfeed > div:nth-child({p}) > div > div.post-outer > div\").text)\n",
    "        driver.find_element_by_css_selector(\"#blog-pager-older-link\").click()\n",
    "\n",
    "    except:\n",
    "        texto.append(\"no data\")\n",
    "driver.quit()"
   ]
  },
  {
   "cell_type": "code",
   "execution_count": 4,
   "id": "9c9bc029",
   "metadata": {},
   "outputs": [
    {
     "data": {
      "text/plain": [
       "'Fui y Volví\\n\\nTienes lo que quieres\\n(05-12-2010)\\n\\n\"Fui a los bosques porque quería vivir a conciencia\"... y me perdí. Sin brújula y sin comida, siguiendo inconscientemente el legado de Alexander Supertramp.\\n\\nConsecuente con el futuro que me espera, segura de que lo que tengo es tan pequeño, como el poco tiempo que me queda.\\n\\nSí, la soledad es un castigo autoimpuesto, y nadie es inmune; cuando te agarra del brazo, te duele y te aplasta contra el suelo y te aferras a tus intangibles pensamientos.\\n\\nYa no quería compartir mi camino con nadie, ni quería huellas siguiéndome, ni fantasmas cantándome canciones de cuna, ya sólo quería encontrarme perdida.\\n\\nSupongo que lo he conseguido\\n\\n(Desconozco el autor de la fotografía, si lo sabéis contactar conmigo para dar crédito o borrar)\\n\\n\\nAquí estoy de nuevo\\n(08-12-2010)\\n\\n\\nVolví a los bosques, pero ya no lo hacía para vivir a conciencia, sino para descansar de los ruidos y las amenazas de aquella ciudad.\\n\\nCargué mis ilusiones perdidas y los corazones rotos en mi mochila, y corrí a los brazos de mis árboles buscando consuelo. Sus ramas ásperas ya no hacían daño en mi corteza, en mi falta de emociones.\\n\\nLas piedras me observaban con tanta calma, que me asustaron, tan quietas e inertes que me sentí reflejada en ellas. Contaban mi historia al pie de la letra. Justo debajo de aquella que se reía de mi torpeza, sepulté mi pasado.\\n\\nImagen de Charlie Engman\\n\\nEster Sinatxe\\n\\n\\nPublicado por Ester Sinatxe en 12:56:00 2 comentarios:\\nEnviar por correo electrónico\\nEscribe un blog\\nCompartir con Twitter\\nCompartir con Facebook\\nCompartir en Pinterest\\nEtiquetas: 2010, Alexander Supertramp, Bosques, Ladyjester, Prosa poética, Soledad, Walt Whitman'"
      ]
     },
     "execution_count": 4,
     "metadata": {},
     "output_type": "execute_result"
    }
   ],
   "source": [
    "texto[39]"
   ]
  },
  {
   "cell_type": "code",
   "execution_count": 5,
   "id": "d0384bea",
   "metadata": {},
   "outputs": [],
   "source": [
    "textos = []\n",
    "for t in texto[:-1]:\n",
    "    s = t.split(\"\\n\")\n",
    "    ind = s.index(\"Enviar por correo electrónico\")\n",
    "    firma = s[:ind-1]\n",
    "    if \"Ester Sinatxe\" in firma:\n",
    "        inddos = firma.index(\"Ester Sinatxe\")\n",
    "        text_def = firma[:inddos]\n",
    "        textos.append(\" \".join(text_def).strip())\n",
    "    else:\n",
    "        textos.append(\" \".join(firma).strip())\n"
   ]
  },
  {
   "cell_type": "code",
   "execution_count": 6,
   "id": "8f55d1ef",
   "metadata": {},
   "outputs": [],
   "source": [
    "listando = []\n",
    "for i in range(len(tit)):\n",
    "    dicc= {}\n",
    "    dicc[\"Titulo\"] = tit[i]\n",
    "    dicc[\"text\"] = textos[i]\n",
    "    listando.append(dicc)"
   ]
  },
  {
   "cell_type": "code",
   "execution_count": 7,
   "id": "fa92c1c6",
   "metadata": {},
   "outputs": [],
   "source": [
    "textos_df = pd.DataFrame(listando)"
   ]
  },
  {
   "cell_type": "code",
   "execution_count": 8,
   "id": "8334ec3a",
   "metadata": {
    "scrolled": true
   },
   "outputs": [
    {
     "data": {
      "text/html": [
       "<div>\n",
       "<style scoped>\n",
       "    .dataframe tbody tr th:only-of-type {\n",
       "        vertical-align: middle;\n",
       "    }\n",
       "\n",
       "    .dataframe tbody tr th {\n",
       "        vertical-align: top;\n",
       "    }\n",
       "\n",
       "    .dataframe thead th {\n",
       "        text-align: right;\n",
       "    }\n",
       "</style>\n",
       "<table border=\"1\" class=\"dataframe\">\n",
       "  <thead>\n",
       "    <tr style=\"text-align: right;\">\n",
       "      <th></th>\n",
       "      <th>Titulo</th>\n",
       "      <th>text</th>\n",
       "    </tr>\n",
       "  </thead>\n",
       "  <tbody>\n",
       "    <tr>\n",
       "      <th>0</th>\n",
       "      <td>Cómo despedirse de alguien, a quien ya no salu...</td>\n",
       "      <td>Cómo despedirse de alguien, a quien ya no salu...</td>\n",
       "    </tr>\n",
       "    <tr>\n",
       "      <th>1</th>\n",
       "      <td>Números rojos</td>\n",
       "      <td>Números rojos   Números rojos  Subí la apuesta...</td>\n",
       "    </tr>\n",
       "    <tr>\n",
       "      <th>2</th>\n",
       "      <td>En espiral</td>\n",
       "      <td>En espiral  Sufro una crisis de infertilidad, ...</td>\n",
       "    </tr>\n",
       "  </tbody>\n",
       "</table>\n",
       "</div>"
      ],
      "text/plain": [
       "                                              Titulo  \\\n",
       "0  Cómo despedirse de alguien, a quien ya no salu...   \n",
       "1                                      Números rojos   \n",
       "2                                         En espiral   \n",
       "\n",
       "                                                text  \n",
       "0  Cómo despedirse de alguien, a quien ya no salu...  \n",
       "1  Números rojos   Números rojos  Subí la apuesta...  \n",
       "2  En espiral  Sufro una crisis de infertilidad, ...  "
      ]
     },
     "execution_count": 8,
     "metadata": {},
     "output_type": "execute_result"
    }
   ],
   "source": [
    "textos_df.head(3)"
   ]
  },
  {
   "cell_type": "markdown",
   "id": "4d94248f",
   "metadata": {},
   "source": [
    "- instalar python -m spacy download es_core_news_sm\n",
    "- instalar python -m spacy download en_core_news_sm\n"
   ]
  },
  {
   "cell_type": "code",
   "execution_count": 9,
   "id": "e5bf31c4",
   "metadata": {},
   "outputs": [],
   "source": [
    "nlp = spacy.load(\"en_core_web_sm\")\n",
    "nlp_es = spacy.load(\"es_core_news_sm\")"
   ]
  },
  {
   "cell_type": "code",
   "execution_count": 10,
   "id": "f9977c2a",
   "metadata": {},
   "outputs": [],
   "source": [
    "# trans = Translator()\n",
    "# esp = \"que tengas un buen day\"\n",
    "# en = trans.translate(esp, dest=\"en\")\n",
    "# print(en.text)"
   ]
  },
  {
   "cell_type": "code",
   "execution_count": 13,
   "id": "415ae46a",
   "metadata": {},
   "outputs": [
    {
     "name": "stdout",
     "output_type": "stream",
     "text": [
      "Cómo despedirse de alguien, a quien ya no saludas, en siete pasos  A Patricia  Primero: Dibújate un interrogante en los labios a juego con tu blanca incredulidad Segundo: Aviva los recuerdos buscando el último cruce de caminos en el que fingiste tener más prisa que tiempo y tiraste la promesa de un café dos papeleras después. Tercero: Cálzate la culpa y dirígete, al compás de vuestra banda sonora, al pie de una escalera a su cielo… que se derrumbará ante tu impertinente falta de fe. Cuarto: Pasa horas desenterrando fotos del fondo de las carpetas olvidadas en un rincón enmarañado de tu memoria externa. Quinto: Ten cuidado de no resbalar bajo la lluvia de despedidas que inundan su perfil bueno en las redes en las que también erais asociales. Sexto: Coge el interrogante de tus labios y úsalo para colgar alguna de esas fotos desenterradas en su muro (o en el tuyo) y márcala con algún verso que os pueda etiquetar juntas en un intento de perdurar justo en el punto final. Séptimo: Cae en la cuenta de que ninguno de estos pasos no te ha servido absolutamente para nada y… LLORA, JODER, LLORA. Y mira como del charco que se va acumulando en tus manos florecen todos los momentos compartidos enredándose en las hojas del diario en las que incrustaste su nombre Y LLORA, JODER, LLORA para regarlas y que no se marchiten nunca. Para qué coño quieres despedirte de alguien a quien ya no saludas si puedes sonreírle a su fantasma y coger carrerilla para saltar a los brazos de todos los que siguen vivos.\n"
     ]
    }
   ],
   "source": [
    "trans = Translator()\n",
    "textil = textos_df.text[0]\n",
    "textil_en = trans.translate(textil,dest=\"en\")\n",
    "print(textil_en.text)"
   ]
  },
  {
   "cell_type": "code",
   "execution_count": 15,
   "id": "85cb5498",
   "metadata": {},
   "outputs": [],
   "source": [
    "stop_es = nlp_es.Defaults.stop_words"
   ]
  },
  {
   "cell_type": "code",
   "execution_count": 16,
   "id": "acc8a654",
   "metadata": {},
   "outputs": [],
   "source": [
    "tok = nlp_es(textil)"
   ]
  },
  {
   "cell_type": "code",
   "execution_count": 17,
   "id": "0d763d00",
   "metadata": {},
   "outputs": [],
   "source": [
    "filtro = []\n",
    "for t in tok:\n",
    "    if not t.is_stop:\n",
    "        lemma = t.lemma_.lower().strip()\n",
    "        if re.search('^[a-zA-Z]+$',lemma):\n",
    "            filtro.append(trans.translate(lemma,dest=\"en\").text)\n",
    "textillo = \" \".join(filtro)\n"
   ]
  },
  {
   "cell_type": "code",
   "execution_count": null,
   "id": "188bfe99",
   "metadata": {},
   "outputs": [],
   "source": [
    "trans = Translator()\n",
    "textillo_en = trans.translate(textillo,dest=\"en\").text"
   ]
  },
  {
   "cell_type": "code",
   "execution_count": null,
   "id": "b00ef0b4",
   "metadata": {},
   "outputs": [],
   "source": [
    "textillo_en"
   ]
  },
  {
   "cell_type": "code",
   "execution_count": 18,
   "id": "247eb307",
   "metadata": {},
   "outputs": [
    {
     "data": {
      "text/plain": [
       "'alguien a saluda paso a patricia interrogante labio a juego blanco incredulidad aviva recuerdo buscar cruce camino fingistar prisa y tirar promesa papelera tercero culpa y banda sonoro pie escalera a cielo derrumbar impertinente falta fe cuarto pasar desenterrar foto fondo carpeta olvidado memoria externa quinto ten cuidado resbalar lluvia despedida inundar perfil red erai asocial sexto coger interrogante labio y colgar foto desenterrada muro o y verso etiquetar junto perdurar justo punto cae paso servir absolutamente y llora joder llora y mirar charco acumular mano florecer momento compartido hoja diario incrustastir nombre y llora joder llora regarla y marchitir querer despedirte alguien a saluda poder a fantasma y coger carrerilla saltar a brazo seguir vivo'"
      ]
     },
     "execution_count": 18,
     "metadata": {},
     "output_type": "execute_result"
    }
   ],
   "source": [
    "textillo"
   ]
  },
  {
   "cell_type": "code",
   "execution_count": null,
   "id": "239d4a84",
   "metadata": {},
   "outputs": [],
   "source": []
  }
 ],
 "metadata": {
  "kernelspec": {
   "display_name": "ironhack",
   "language": "python",
   "name": "ironhack"
  },
  "language_info": {
   "codemirror_mode": {
    "name": "ipython",
    "version": 3
   },
   "file_extension": ".py",
   "mimetype": "text/x-python",
   "name": "python",
   "nbconvert_exporter": "python",
   "pygments_lexer": "ipython3",
   "version": "3.8.5"
  }
 },
 "nbformat": 4,
 "nbformat_minor": 5
}
