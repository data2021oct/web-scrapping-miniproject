{
 "cells": [
  {
   "cell_type": "code",
   "execution_count": 3,
   "metadata": {},
   "outputs": [
    {
     "name": "stderr",
     "output_type": "stream",
     "text": [
      "[nltk_data] Downloading package vader_lexicon to\n",
      "[nltk_data]     /home/sinatxe/nltk_data...\n",
      "[nltk_data]   Package vader_lexicon is already up-to-date!\n"
     ]
    }
   ],
   "source": [
    "import pandas as pd\n",
    "import sys\n",
    "sys.path.append('src')\n",
    "import cleansing as cl\n",
    "import len_manip as lm"
   ]
  },
  {
   "cell_type": "markdown",
   "metadata": {},
   "source": [
    "# Selinium Driver"
   ]
  },
  {
   "cell_type": "code",
   "execution_count": 2,
   "metadata": {},
   "outputs": [],
   "source": [
    "url_blog = \"http://estersinatxe.blogspot.com/\""
   ]
  },
  {
   "cell_type": "code",
   "execution_count": 3,
   "metadata": {},
   "outputs": [],
   "source": [
    "driving = cl.driver_blospot(url_blog,8,8)"
   ]
  },
  {
   "cell_type": "markdown",
   "metadata": {},
   "source": [
    "#### Checking the import from Selenium driver"
   ]
  },
  {
   "cell_type": "code",
   "execution_count": 4,
   "metadata": {},
   "outputs": [],
   "source": [
    "tit = driving[0]\n",
    "texto = driving[1]"
   ]
  },
  {
   "cell_type": "code",
   "execution_count": 5,
   "metadata": {},
   "outputs": [
    {
     "data": {
      "text/plain": [
       "('En mis recuerdos',\n",
       " 'En mis recuerdos\\n\\n\\nEn mis recuerdos siempre hay un cenicero, ropa sucia en el suelo y más de un reloj perdiendo el tiempo.\\n\\nPuedes encontrar cuadernos hechos con hojas de un otoño perenne; también hay un parque eterno que al atardecer se deja liar tras una cortina de humo.\\n\\nTodas las piedras del camino tiran sus tropiezos sobre mis tejados y esconden las casas sin construir.\\n\\nCada mirada perdida encuentra un secreto y cada mano inocente guarda el silencio del que calla para siempre.\\n\\nEn mis recuerdos siempre hay cenizas porque me da miedo el fuego.\\n\\nEster Sinatxe\\n(28-09-2016)\\nPublicado por Sinatxe en 21:46:00 No hay comentarios:\\nEnviar por correo electrónico\\nEscribe un blog\\nCompartir con Twitter\\nCompartir con Facebook\\nCompartir en Pinterest\\nEtiquetas: 2016, Camino, cenicero, cenizas, Cuadernos, Otoño, Piedra, Prosa poética, rercuerdo, Silencio, tiempo, tropiezo')"
      ]
     },
     "execution_count": 5,
     "metadata": {},
     "output_type": "execute_result"
    }
   ],
   "source": [
    "tit[3],texto[3]"
   ]
  },
  {
   "cell_type": "markdown",
   "metadata": {},
   "source": [
    "### Cleaning data"
   ]
  },
  {
   "cell_type": "code",
   "execution_count": 6,
   "metadata": {},
   "outputs": [],
   "source": [
    "lista = texto\n",
    "indexando = \"Enviar por correo electrónico\"\n",
    "firmando = \"Ester Sinatxe\"\n",
    "textos = cl.cleaning_texts(lista,indexando,firmando) #function in cleansing.py"
   ]
  },
  {
   "cell_type": "code",
   "execution_count": 7,
   "metadata": {},
   "outputs": [
    {
     "data": {
      "text/plain": [
       "'En mis recuerdos siempre hay un cenicero, ropa sucia en el suelo y más de un reloj perdiendo el tiempo.  Puedes encontrar cuadernos hechos con hojas de un otoño perenne; también hay un parque eterno que al atardecer se deja liar tras una cortina de humo.  Todas las piedras del camino tiran sus tropiezos sobre mis tejados y esconden las casas sin construir.  Cada mirada perdida encuentra un secreto y cada mano inocente guarda el silencio del que calla para siempre.  En mis recuerdos siempre hay cenizas porque me da miedo el fuego.'"
      ]
     },
     "execution_count": 7,
     "metadata": {},
     "output_type": "execute_result"
    }
   ],
   "source": [
    "textos[3]"
   ]
  },
  {
   "cell_type": "markdown",
   "metadata": {},
   "source": [
    "## DataFrame\n",
    "- we create a dataframe of the texts with the title and the content"
   ]
  },
  {
   "cell_type": "code",
   "execution_count": 8,
   "metadata": {},
   "outputs": [
    {
     "data": {
      "text/html": [
       "<div>\n",
       "<style scoped>\n",
       "    .dataframe tbody tr th:only-of-type {\n",
       "        vertical-align: middle;\n",
       "    }\n",
       "\n",
       "    .dataframe tbody tr th {\n",
       "        vertical-align: top;\n",
       "    }\n",
       "\n",
       "    .dataframe thead th {\n",
       "        text-align: right;\n",
       "    }\n",
       "</style>\n",
       "<table border=\"1\" class=\"dataframe\">\n",
       "  <thead>\n",
       "    <tr style=\"text-align: right;\">\n",
       "      <th></th>\n",
       "      <th>Titulo</th>\n",
       "      <th>text</th>\n",
       "    </tr>\n",
       "  </thead>\n",
       "  <tbody>\n",
       "    <tr>\n",
       "      <th>0</th>\n",
       "      <td>Cómo despedirse de alguien, a quien ya no salu...</td>\n",
       "      <td>A Patricia  Primero: Dibújate un interrogante ...</td>\n",
       "    </tr>\n",
       "    <tr>\n",
       "      <th>1</th>\n",
       "      <td>Números rojos</td>\n",
       "      <td>Números rojos  Subí la apuesta a que te bajaba...</td>\n",
       "    </tr>\n",
       "    <tr>\n",
       "      <th>2</th>\n",
       "      <td>En espiral</td>\n",
       "      <td>Sufro una crisis de infertilidad, y ya no sé c...</td>\n",
       "    </tr>\n",
       "  </tbody>\n",
       "</table>\n",
       "</div>"
      ],
      "text/plain": [
       "                                              Titulo  \\\n",
       "0  Cómo despedirse de alguien, a quien ya no salu...   \n",
       "1                                      Números rojos   \n",
       "2                                         En espiral   \n",
       "\n",
       "                                                text  \n",
       "0  A Patricia  Primero: Dibújate un interrogante ...  \n",
       "1  Números rojos  Subí la apuesta a que te bajaba...  \n",
       "2  Sufro una crisis de infertilidad, y ya no sé c...  "
      ]
     },
     "execution_count": 8,
     "metadata": {},
     "output_type": "execute_result"
    }
   ],
   "source": [
    "listando = []\n",
    "for i in range(len(tit)):\n",
    "    dicc= {}\n",
    "    dicc[\"Titulo\"] = tit[i]\n",
    "    dicc[\"text\"] = textos[i]\n",
    "    listando.append(dicc)\n",
    "textos_df = pd.DataFrame(listando)\n",
    "textos_df.head(3)"
   ]
  },
  {
   "cell_type": "markdown",
   "metadata": {},
   "source": [
    "### Lenguage manipulation"
   ]
  },
  {
   "cell_type": "code",
   "execution_count": 9,
   "metadata": {},
   "outputs": [],
   "source": [
    "textos_df[\"english\"] = textos_df[\"text\"].apply(lm.english) #translating text into english"
   ]
  },
  {
   "cell_type": "code",
   "execution_count": 10,
   "metadata": {},
   "outputs": [],
   "source": [
    "textos_df.rename(columns = {\"Titulo\":\"tit\",\"text\":\"tex\",\"english\":\"tex_en\"},inplace = True)"
   ]
  },
  {
   "cell_type": "code",
   "execution_count": 13,
   "metadata": {},
   "outputs": [],
   "source": [
    "textos_df[\"tok_en\"] = textos_df.tex_en.apply(lm.tokenizer) #function in len_manip.py\n",
    "textos_en = textos_df\n"
   ]
  },
  {
   "cell_type": "markdown",
   "metadata": {},
   "source": [
    "#### in the tonkenizer function we use stemming and lemmatization: \n",
    "- Stemming uses the stem of the word, while lemmatization uses the context in which the word is being used\n",
    "    - Stemming algorithms work by cutting off the end or the beginning of the word, taking into account a list of common prefixes and suffixes that can be found in an inflected word. This indiscriminate cutting can be successful in some occasions, but not always, and that is why we affirm that this approach presents some limitations.\n",
    "    - Lemmatization, on the other hand, takes into consideration the morphological analysis of the words. To do so, it is necessary to have detailed dictionaries which the algorithm can look through to link the form back to its lemma."
   ]
  },
  {
   "cell_type": "code",
   "execution_count": 12,
   "metadata": {},
   "outputs": [
    {
     "data": {
      "text/html": [
       "<div>\n",
       "<style scoped>\n",
       "    .dataframe tbody tr th:only-of-type {\n",
       "        vertical-align: middle;\n",
       "    }\n",
       "\n",
       "    .dataframe tbody tr th {\n",
       "        vertical-align: top;\n",
       "    }\n",
       "\n",
       "    .dataframe thead th {\n",
       "        text-align: right;\n",
       "    }\n",
       "</style>\n",
       "<table border=\"1\" class=\"dataframe\">\n",
       "  <thead>\n",
       "    <tr style=\"text-align: right;\">\n",
       "      <th></th>\n",
       "      <th>tit</th>\n",
       "      <th>tex</th>\n",
       "      <th>tex_en</th>\n",
       "      <th>tok_en</th>\n",
       "    </tr>\n",
       "  </thead>\n",
       "  <tbody>\n",
       "    <tr>\n",
       "      <th>43</th>\n",
       "      <td>Poesía urbana</td>\n",
       "      <td>¿Comparas mis ojos con estrellas? Mejor invíta...</td>\n",
       "      <td>Do you compare my eyes with stars?Better invit...</td>\n",
       "      <td>compare eye invite bottle urban poetry learn g...</td>\n",
       "    </tr>\n",
       "    <tr>\n",
       "      <th>47</th>\n",
       "      <td>De cadencia y otras faltas de ritmo.</td>\n",
       "      <td>Dejó que el tiempo pasara como quien deja corr...</td>\n",
       "      <td>He let time go as he lets the water run a hang...</td>\n",
       "      <td>let time let water run hangover morning let ha...</td>\n",
       "    </tr>\n",
       "    <tr>\n",
       "      <th>9</th>\n",
       "      <td>Y otros destinos escritos</td>\n",
       "      <td>Me he acordado de la última vez que no me enam...</td>\n",
       "      <td>I have remembered the last time I did not fall...</td>\n",
       "      <td>remember time fall love liver break atillo sto...</td>\n",
       "    </tr>\n",
       "  </tbody>\n",
       "</table>\n",
       "</div>"
      ],
      "text/plain": [
       "                                     tit  \\\n",
       "43                         Poesía urbana   \n",
       "47  De cadencia y otras faltas de ritmo.   \n",
       "9              Y otros destinos escritos   \n",
       "\n",
       "                                                  tex  \\\n",
       "43  ¿Comparas mis ojos con estrellas? Mejor invíta...   \n",
       "47  Dejó que el tiempo pasara como quien deja corr...   \n",
       "9   Me he acordado de la última vez que no me enam...   \n",
       "\n",
       "                                               tex_en  \\\n",
       "43  Do you compare my eyes with stars?Better invit...   \n",
       "47  He let time go as he lets the water run a hang...   \n",
       "9   I have remembered the last time I did not fall...   \n",
       "\n",
       "                                               tok_en  \n",
       "43  compare eye invite bottle urban poetry learn g...  \n",
       "47  let time let water run hangover morning let ha...  \n",
       "9   remember time fall love liver break atillo sto...  "
      ]
     },
     "execution_count": 12,
     "metadata": {},
     "output_type": "execute_result"
    }
   ],
   "source": [
    "textos_en.sample(3)"
   ]
  },
  {
   "cell_type": "code",
   "execution_count": 14,
   "metadata": {},
   "outputs": [],
   "source": [
    "textos_en.to_csv(\"export/text_en.csv\",index=False)"
   ]
  },
  {
   "cell_type": "code",
   "execution_count": 10,
   "metadata": {},
   "outputs": [],
   "source": [
    "textos_en[\"sentiments\"] = textos_en.tok_en.apply(lm.sentimental)"
   ]
  },
  {
   "cell_type": "code",
   "execution_count": 11,
   "metadata": {},
   "outputs": [],
   "source": [
    "textos_en[[\"polaridad\",\"subjetividad\",\"neg\",\"neu\",\"pos\",\"compound\"]] = pd.DataFrame(textos_en.sentiments.tolist(),index= textos_en.index)"
   ]
  },
  {
   "cell_type": "code",
   "execution_count": 12,
   "metadata": {
    "scrolled": true
   },
   "outputs": [
    {
     "data": {
      "text/html": [
       "<div>\n",
       "<style scoped>\n",
       "    .dataframe tbody tr th:only-of-type {\n",
       "        vertical-align: middle;\n",
       "    }\n",
       "\n",
       "    .dataframe tbody tr th {\n",
       "        vertical-align: top;\n",
       "    }\n",
       "\n",
       "    .dataframe thead th {\n",
       "        text-align: right;\n",
       "    }\n",
       "</style>\n",
       "<table border=\"1\" class=\"dataframe\">\n",
       "  <thead>\n",
       "    <tr style=\"text-align: right;\">\n",
       "      <th></th>\n",
       "      <th>tit</th>\n",
       "      <th>tex</th>\n",
       "      <th>tex_en</th>\n",
       "      <th>tok_en</th>\n",
       "      <th>sentiments</th>\n",
       "      <th>polaridad</th>\n",
       "      <th>subjetividad</th>\n",
       "      <th>neg</th>\n",
       "      <th>neu</th>\n",
       "      <th>pos</th>\n",
       "      <th>compound</th>\n",
       "    </tr>\n",
       "  </thead>\n",
       "  <tbody>\n",
       "    <tr>\n",
       "      <th>0</th>\n",
       "      <td>Cómo despedirse de alguien, a quien ya no salu...</td>\n",
       "      <td>A Patricia  Primero: Dibújate un interrogante ...</td>\n",
       "      <td>A Patricia first: Draw a question on the lips ...</td>\n",
       "      <td>patricia draw question lip match white disbeli...</td>\n",
       "      <td>[0.04540816326530611, 0.3739795918367347, 0.23...</td>\n",
       "      <td>0.045408</td>\n",
       "      <td>0.373980</td>\n",
       "      <td>0.234</td>\n",
       "      <td>0.582</td>\n",
       "      <td>0.185</td>\n",
       "      <td>-0.8454</td>\n",
       "    </tr>\n",
       "    <tr>\n",
       "      <th>1</th>\n",
       "      <td>Números rojos</td>\n",
       "      <td>Números rojos  Subí la apuesta a que te bajaba...</td>\n",
       "      <td>Red numbers I went up the bet that lowered you...</td>\n",
       "      <td>red number go bet lower pant end buy battery c...</td>\n",
       "      <td>[0.09999999999999999, 0.38571428571428573, 0.1...</td>\n",
       "      <td>0.100000</td>\n",
       "      <td>0.385714</td>\n",
       "      <td>0.107</td>\n",
       "      <td>0.556</td>\n",
       "      <td>0.338</td>\n",
       "      <td>0.9393</td>\n",
       "    </tr>\n",
       "    <tr>\n",
       "      <th>2</th>\n",
       "      <td>En espiral</td>\n",
       "      <td>Sufro una crisis de infertilidad, y ya no sé c...</td>\n",
       "      <td>I suffer a crisis of infertility, and I do not...</td>\n",
       "      <td>suffer crisis infertility know lethargy mascot...</td>\n",
       "      <td>[-0.03958333333333334, 0.6124999999999999, 0.2...</td>\n",
       "      <td>-0.039583</td>\n",
       "      <td>0.612500</td>\n",
       "      <td>0.293</td>\n",
       "      <td>0.560</td>\n",
       "      <td>0.147</td>\n",
       "      <td>-0.8720</td>\n",
       "    </tr>\n",
       "  </tbody>\n",
       "</table>\n",
       "</div>"
      ],
      "text/plain": [
       "                                                 tit  \\\n",
       "0  Cómo despedirse de alguien, a quien ya no salu...   \n",
       "1                                      Números rojos   \n",
       "2                                         En espiral   \n",
       "\n",
       "                                                 tex  \\\n",
       "0  A Patricia  Primero: Dibújate un interrogante ...   \n",
       "1  Números rojos  Subí la apuesta a que te bajaba...   \n",
       "2  Sufro una crisis de infertilidad, y ya no sé c...   \n",
       "\n",
       "                                              tex_en  \\\n",
       "0  A Patricia first: Draw a question on the lips ...   \n",
       "1  Red numbers I went up the bet that lowered you...   \n",
       "2  I suffer a crisis of infertility, and I do not...   \n",
       "\n",
       "                                              tok_en  \\\n",
       "0  patricia draw question lip match white disbeli...   \n",
       "1  red number go bet lower pant end buy battery c...   \n",
       "2  suffer crisis infertility know lethargy mascot...   \n",
       "\n",
       "                                          sentiments  polaridad  subjetividad  \\\n",
       "0  [0.04540816326530611, 0.3739795918367347, 0.23...   0.045408      0.373980   \n",
       "1  [0.09999999999999999, 0.38571428571428573, 0.1...   0.100000      0.385714   \n",
       "2  [-0.03958333333333334, 0.6124999999999999, 0.2...  -0.039583      0.612500   \n",
       "\n",
       "     neg    neu    pos  compound  \n",
       "0  0.234  0.582  0.185   -0.8454  \n",
       "1  0.107  0.556  0.338    0.9393  \n",
       "2  0.293  0.560  0.147   -0.8720  "
      ]
     },
     "execution_count": 12,
     "metadata": {},
     "output_type": "execute_result"
    }
   ],
   "source": [
    "textos_en.head(3)"
   ]
  },
  {
   "cell_type": "code",
   "execution_count": 13,
   "metadata": {},
   "outputs": [],
   "source": [
    "textos_en[\"num_pal\"] = textos_en.tex.apply(lm.cuentastok) # function in len_manip.py"
   ]
  },
  {
   "cell_type": "code",
   "execution_count": 14,
   "metadata": {},
   "outputs": [
    {
     "data": {
      "text/html": [
       "<div>\n",
       "<style scoped>\n",
       "    .dataframe tbody tr th:only-of-type {\n",
       "        vertical-align: middle;\n",
       "    }\n",
       "\n",
       "    .dataframe tbody tr th {\n",
       "        vertical-align: top;\n",
       "    }\n",
       "\n",
       "    .dataframe thead th {\n",
       "        text-align: right;\n",
       "    }\n",
       "</style>\n",
       "<table border=\"1\" class=\"dataframe\">\n",
       "  <thead>\n",
       "    <tr style=\"text-align: right;\">\n",
       "      <th></th>\n",
       "      <th>tit</th>\n",
       "      <th>tex</th>\n",
       "      <th>tex_en</th>\n",
       "      <th>tok_en</th>\n",
       "      <th>sentiments</th>\n",
       "      <th>polaridad</th>\n",
       "      <th>subjetividad</th>\n",
       "      <th>neg</th>\n",
       "      <th>neu</th>\n",
       "      <th>pos</th>\n",
       "      <th>compound</th>\n",
       "      <th>num_pal</th>\n",
       "    </tr>\n",
       "  </thead>\n",
       "  <tbody>\n",
       "    <tr>\n",
       "      <th>25</th>\n",
       "      <td>Treinta y tantos otoños.</td>\n",
       "      <td>Hoy se sienta, altiva, en el mismo banco en el...</td>\n",
       "      <td>Today he feels, alert, in the same bank he stu...</td>\n",
       "      <td>today feel alert bank stutter year look childh...</td>\n",
       "      <td>[0.08691460055096417, 0.45344352617079886, 0.1...</td>\n",
       "      <td>0.086915</td>\n",
       "      <td>0.453444</td>\n",
       "      <td>0.132</td>\n",
       "      <td>0.600</td>\n",
       "      <td>0.268</td>\n",
       "      <td>0.9349</td>\n",
       "      <td>934</td>\n",
       "    </tr>\n",
       "    <tr>\n",
       "      <th>3</th>\n",
       "      <td>En mis recuerdos</td>\n",
       "      <td>En mis recuerdos siempre hay un cenicero, ropa...</td>\n",
       "      <td>In my memories there is always an ashtray, dir...</td>\n",
       "      <td>memory ashtray dirty clothe floor clock lose t...</td>\n",
       "      <td>[-0.22999999999999998, 0.6399999999999999, 0.2...</td>\n",
       "      <td>-0.230000</td>\n",
       "      <td>0.640000</td>\n",
       "      <td>0.290</td>\n",
       "      <td>0.572</td>\n",
       "      <td>0.138</td>\n",
       "      <td>-0.8020</td>\n",
       "      <td>631</td>\n",
       "    </tr>\n",
       "    <tr>\n",
       "      <th>5</th>\n",
       "      <td>Notas al margen</td>\n",
       "      <td>A veces me enamoro, otras abro los ojos. No si...</td>\n",
       "      <td>Sometimes I fall in love, others open my eyes....</td>\n",
       "      <td>fall love open eye write like notebook coffee ...</td>\n",
       "      <td>[-0.009166666666666662, 0.3391666666666667, 0....</td>\n",
       "      <td>-0.009167</td>\n",
       "      <td>0.339167</td>\n",
       "      <td>0.277</td>\n",
       "      <td>0.525</td>\n",
       "      <td>0.198</td>\n",
       "      <td>-0.4019</td>\n",
       "      <td>644</td>\n",
       "    </tr>\n",
       "  </tbody>\n",
       "</table>\n",
       "</div>"
      ],
      "text/plain": [
       "                         tit  \\\n",
       "25  Treinta y tantos otoños.   \n",
       "3           En mis recuerdos   \n",
       "5            Notas al margen   \n",
       "\n",
       "                                                  tex  \\\n",
       "25  Hoy se sienta, altiva, en el mismo banco en el...   \n",
       "3   En mis recuerdos siempre hay un cenicero, ropa...   \n",
       "5   A veces me enamoro, otras abro los ojos. No si...   \n",
       "\n",
       "                                               tex_en  \\\n",
       "25  Today he feels, alert, in the same bank he stu...   \n",
       "3   In my memories there is always an ashtray, dir...   \n",
       "5   Sometimes I fall in love, others open my eyes....   \n",
       "\n",
       "                                               tok_en  \\\n",
       "25  today feel alert bank stutter year look childh...   \n",
       "3   memory ashtray dirty clothe floor clock lose t...   \n",
       "5   fall love open eye write like notebook coffee ...   \n",
       "\n",
       "                                           sentiments  polaridad  \\\n",
       "25  [0.08691460055096417, 0.45344352617079886, 0.1...   0.086915   \n",
       "3   [-0.22999999999999998, 0.6399999999999999, 0.2...  -0.230000   \n",
       "5   [-0.009166666666666662, 0.3391666666666667, 0....  -0.009167   \n",
       "\n",
       "    subjetividad    neg    neu    pos  compound  num_pal  \n",
       "25      0.453444  0.132  0.600  0.268    0.9349      934  \n",
       "3       0.640000  0.290  0.572  0.138   -0.8020      631  \n",
       "5       0.339167  0.277  0.525  0.198   -0.4019      644  "
      ]
     },
     "execution_count": 14,
     "metadata": {},
     "output_type": "execute_result"
    }
   ],
   "source": [
    "textos_en.sample(3)"
   ]
  },
  {
   "cell_type": "code",
   "execution_count": 15,
   "metadata": {},
   "outputs": [],
   "source": [
    "text_sent = textos_en\n",
    "text_sent.to_csv(\"export/text_sent.csv\",index = False)"
   ]
  },
  {
   "cell_type": "code",
   "execution_count": null,
   "metadata": {},
   "outputs": [],
   "source": []
  }
 ],
 "metadata": {
  "kernelspec": {
   "display_name": "ironhack",
   "language": "python",
   "name": "ironhack"
  },
  "language_info": {
   "codemirror_mode": {
    "name": "ipython",
    "version": 3
   },
   "file_extension": ".py",
   "mimetype": "text/x-python",
   "name": "python",
   "nbconvert_exporter": "python",
   "pygments_lexer": "ipython3",
   "version": "3.8.5"
  }
 },
 "nbformat": 4,
 "nbformat_minor": 5
}
