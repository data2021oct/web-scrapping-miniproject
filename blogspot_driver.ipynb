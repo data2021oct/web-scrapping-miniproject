{
 "cells": [
  {
   "cell_type": "code",
   "execution_count": 1,
   "id": "9e5f5e62",
   "metadata": {},
   "outputs": [
    {
     "name": "stderr",
     "output_type": "stream",
     "text": [
      "[nltk_data] Downloading package vader_lexicon to\n",
      "[nltk_data]     /home/sinatxe/nltk_data...\n",
      "[nltk_data]   Package vader_lexicon is already up-to-date!\n"
     ]
    }
   ],
   "source": [
    "import pandas as pd\n",
    "import sys\n",
    "sys.path.append('src')\n",
    "import cleansing as cl\n",
    "import len_manip as lm"
   ]
  },
  {
   "cell_type": "markdown",
   "id": "5efde8d4",
   "metadata": {},
   "source": [
    "# Selinium Driver"
   ]
  },
  {
   "cell_type": "code",
   "execution_count": 2,
   "id": "970d7c43",
   "metadata": {},
   "outputs": [],
   "source": [
    "url_blog = \"http://estersinatxe.blogspot.com/\""
   ]
  },
  {
   "cell_type": "code",
   "execution_count": 3,
   "id": "1c06d1e4",
   "metadata": {},
   "outputs": [],
   "source": [
    "driving = cl.driver_blospot(url_blog,8,8)"
   ]
  },
  {
   "cell_type": "markdown",
   "id": "95194c02",
   "metadata": {},
   "source": [
    "#### Checking the import from Selenium driver"
   ]
  },
  {
   "cell_type": "code",
   "execution_count": 4,
   "id": "c4bdfa0e",
   "metadata": {},
   "outputs": [],
   "source": [
    "tit = driving[0]\n",
    "texto = driving[1]"
   ]
  },
  {
   "cell_type": "code",
   "execution_count": 5,
   "id": "38578608",
   "metadata": {},
   "outputs": [
    {
     "data": {
      "text/plain": [
       "('En mis recuerdos',\n",
       " 'En mis recuerdos\\n\\n\\nEn mis recuerdos siempre hay un cenicero, ropa sucia en el suelo y más de un reloj perdiendo el tiempo.\\n\\nPuedes encontrar cuadernos hechos con hojas de un otoño perenne; también hay un parque eterno que al atardecer se deja liar tras una cortina de humo.\\n\\nTodas las piedras del camino tiran sus tropiezos sobre mis tejados y esconden las casas sin construir.\\n\\nCada mirada perdida encuentra un secreto y cada mano inocente guarda el silencio del que calla para siempre.\\n\\nEn mis recuerdos siempre hay cenizas porque me da miedo el fuego.\\n\\nEster Sinatxe\\n(28-09-2016)\\nPublicado por Sinatxe en 21:46:00 No hay comentarios:\\nEnviar por correo electrónico\\nEscribe un blog\\nCompartir con Twitter\\nCompartir con Facebook\\nCompartir en Pinterest\\nEtiquetas: 2016, Camino, cenicero, cenizas, Cuadernos, Otoño, Piedra, Prosa poética, rercuerdo, Silencio, tiempo, tropiezo')"
      ]
     },
     "execution_count": 5,
     "metadata": {},
     "output_type": "execute_result"
    }
   ],
   "source": [
    "tit[3],texto[3]"
   ]
  },
  {
   "cell_type": "markdown",
   "id": "ff9b634d",
   "metadata": {},
   "source": [
    "### Cleaning data"
   ]
  },
  {
   "cell_type": "code",
   "execution_count": 6,
   "id": "d081c391",
   "metadata": {},
   "outputs": [],
   "source": [
    "lista = texto\n",
    "indexando = \"Enviar por correo electrónico\"\n",
    "firmando = \"Ester Sinatxe\"\n",
    "textos = cl.cleaning_texts(lista,indexando,firmando)"
   ]
  },
  {
   "cell_type": "code",
   "execution_count": 7,
   "id": "b699b6cd",
   "metadata": {},
   "outputs": [
    {
     "data": {
      "text/plain": [
       "'En mis recuerdos siempre hay un cenicero, ropa sucia en el suelo y más de un reloj perdiendo el tiempo.  Puedes encontrar cuadernos hechos con hojas de un otoño perenne; también hay un parque eterno que al atardecer se deja liar tras una cortina de humo.  Todas las piedras del camino tiran sus tropiezos sobre mis tejados y esconden las casas sin construir.  Cada mirada perdida encuentra un secreto y cada mano inocente guarda el silencio del que calla para siempre.  En mis recuerdos siempre hay cenizas porque me da miedo el fuego.'"
      ]
     },
     "execution_count": 7,
     "metadata": {},
     "output_type": "execute_result"
    }
   ],
   "source": [
    "textos[3]"
   ]
  },
  {
   "cell_type": "markdown",
   "id": "2185c6fb",
   "metadata": {},
   "source": [
    "## DataFrame"
   ]
  },
  {
   "cell_type": "code",
   "execution_count": 8,
   "id": "688c568f",
   "metadata": {},
   "outputs": [
    {
     "data": {
      "text/html": [
       "<div>\n",
       "<style scoped>\n",
       "    .dataframe tbody tr th:only-of-type {\n",
       "        vertical-align: middle;\n",
       "    }\n",
       "\n",
       "    .dataframe tbody tr th {\n",
       "        vertical-align: top;\n",
       "    }\n",
       "\n",
       "    .dataframe thead th {\n",
       "        text-align: right;\n",
       "    }\n",
       "</style>\n",
       "<table border=\"1\" class=\"dataframe\">\n",
       "  <thead>\n",
       "    <tr style=\"text-align: right;\">\n",
       "      <th></th>\n",
       "      <th>Titulo</th>\n",
       "      <th>text</th>\n",
       "    </tr>\n",
       "  </thead>\n",
       "  <tbody>\n",
       "    <tr>\n",
       "      <th>0</th>\n",
       "      <td>Cómo despedirse de alguien, a quien ya no salu...</td>\n",
       "      <td>A Patricia  Primero: Dibújate un interrogante ...</td>\n",
       "    </tr>\n",
       "    <tr>\n",
       "      <th>1</th>\n",
       "      <td>Números rojos</td>\n",
       "      <td>Números rojos  Subí la apuesta a que te bajaba...</td>\n",
       "    </tr>\n",
       "    <tr>\n",
       "      <th>2</th>\n",
       "      <td>En espiral</td>\n",
       "      <td>Sufro una crisis de infertilidad, y ya no sé c...</td>\n",
       "    </tr>\n",
       "  </tbody>\n",
       "</table>\n",
       "</div>"
      ],
      "text/plain": [
       "                                              Titulo  \\\n",
       "0  Cómo despedirse de alguien, a quien ya no salu...   \n",
       "1                                      Números rojos   \n",
       "2                                         En espiral   \n",
       "\n",
       "                                                text  \n",
       "0  A Patricia  Primero: Dibújate un interrogante ...  \n",
       "1  Números rojos  Subí la apuesta a que te bajaba...  \n",
       "2  Sufro una crisis de infertilidad, y ya no sé c...  "
      ]
     },
     "execution_count": 8,
     "metadata": {},
     "output_type": "execute_result"
    }
   ],
   "source": [
    "listando = []\n",
    "for i in range(len(tit)):\n",
    "    dicc= {}\n",
    "    dicc[\"Titulo\"] = tit[i]\n",
    "    dicc[\"text\"] = textos[i]\n",
    "    listando.append(dicc)\n",
    "textos_df = pd.DataFrame(listando)\n",
    "textos_df.head(3)"
   ]
  },
  {
   "cell_type": "code",
   "execution_count": 10,
   "id": "021e0ed8",
   "metadata": {},
   "outputs": [],
   "source": [
    "textos_df[\"english\"] = textos_df[\"text\"].apply(lm.english)"
   ]
  },
  {
   "cell_type": "code",
   "execution_count": 11,
   "id": "96740b60",
   "metadata": {},
   "outputs": [],
   "source": [
    "textos_df.rename(columns = {\"Titulo\":\"tit\",\"text\":\"tex\",\"english\":\"tex_en\"},inplace = True)"
   ]
  },
  {
   "cell_type": "code",
   "execution_count": 12,
   "id": "94be4c1f",
   "metadata": {},
   "outputs": [],
   "source": [
    "textos_df[\"tok_en\"] = textos_df.tex_en.apply(lm.tokenizer)\n",
    "textos_en = textos_df\n",
    "textos_en.to_csv(\"export/text_sent.csv\")"
   ]
  },
  {
   "cell_type": "code",
   "execution_count": 13,
   "id": "13fbc238",
   "metadata": {},
   "outputs": [],
   "source": [
    "textos_en[\"sentiments\"] = textos_en.tok_en.apply(lm.sentimental)"
   ]
  },
  {
   "cell_type": "code",
   "execution_count": 14,
   "id": "9e2eb594",
   "metadata": {},
   "outputs": [],
   "source": [
    "textos_en[[\"polaridad\",\"subjetividad\",\"neg\",\"neu\",\"pos\",\"compound\"]] = pd.DataFrame(textos_en.sentiments.tolist(),index= textos_en.index)"
   ]
  },
  {
   "cell_type": "code",
   "execution_count": 15,
   "id": "988349c8",
   "metadata": {},
   "outputs": [
    {
     "data": {
      "text/html": [
       "<div>\n",
       "<style scoped>\n",
       "    .dataframe tbody tr th:only-of-type {\n",
       "        vertical-align: middle;\n",
       "    }\n",
       "\n",
       "    .dataframe tbody tr th {\n",
       "        vertical-align: top;\n",
       "    }\n",
       "\n",
       "    .dataframe thead th {\n",
       "        text-align: right;\n",
       "    }\n",
       "</style>\n",
       "<table border=\"1\" class=\"dataframe\">\n",
       "  <thead>\n",
       "    <tr style=\"text-align: right;\">\n",
       "      <th></th>\n",
       "      <th>tit</th>\n",
       "      <th>tex</th>\n",
       "      <th>tex_en</th>\n",
       "      <th>tok_en</th>\n",
       "      <th>sentiments</th>\n",
       "      <th>polaridad</th>\n",
       "      <th>subjetividad</th>\n",
       "      <th>neg</th>\n",
       "      <th>neu</th>\n",
       "      <th>pos</th>\n",
       "      <th>compound</th>\n",
       "    </tr>\n",
       "  </thead>\n",
       "  <tbody>\n",
       "    <tr>\n",
       "      <th>0</th>\n",
       "      <td>Cómo despedirse de alguien, a quien ya no salu...</td>\n",
       "      <td>A Patricia  Primero: Dibújate un interrogante ...</td>\n",
       "      <td>A Patricia first: Draw a question on the lips ...</td>\n",
       "      <td>patricia draw question lip match white disbeli...</td>\n",
       "      <td>[0.04540816326530611, 0.3739795918367347, 0.23...</td>\n",
       "      <td>0.045408</td>\n",
       "      <td>0.373980</td>\n",
       "      <td>0.234</td>\n",
       "      <td>0.582</td>\n",
       "      <td>0.185</td>\n",
       "      <td>-0.8454</td>\n",
       "    </tr>\n",
       "    <tr>\n",
       "      <th>1</th>\n",
       "      <td>Números rojos</td>\n",
       "      <td>Números rojos  Subí la apuesta a que te bajaba...</td>\n",
       "      <td>Red numbers I went up the bet that lowered you...</td>\n",
       "      <td>red number go bet lower pant end buy battery c...</td>\n",
       "      <td>[0.09999999999999999, 0.38571428571428573, 0.1...</td>\n",
       "      <td>0.100000</td>\n",
       "      <td>0.385714</td>\n",
       "      <td>0.107</td>\n",
       "      <td>0.556</td>\n",
       "      <td>0.338</td>\n",
       "      <td>0.9393</td>\n",
       "    </tr>\n",
       "    <tr>\n",
       "      <th>2</th>\n",
       "      <td>En espiral</td>\n",
       "      <td>Sufro una crisis de infertilidad, y ya no sé c...</td>\n",
       "      <td>I suffer a crisis of infertility, and I do not...</td>\n",
       "      <td>suffer crisis infertility know lethargy mascot...</td>\n",
       "      <td>[-0.03958333333333334, 0.6124999999999999, 0.2...</td>\n",
       "      <td>-0.039583</td>\n",
       "      <td>0.612500</td>\n",
       "      <td>0.293</td>\n",
       "      <td>0.560</td>\n",
       "      <td>0.147</td>\n",
       "      <td>-0.8720</td>\n",
       "    </tr>\n",
       "  </tbody>\n",
       "</table>\n",
       "</div>"
      ],
      "text/plain": [
       "                                                 tit  \\\n",
       "0  Cómo despedirse de alguien, a quien ya no salu...   \n",
       "1                                      Números rojos   \n",
       "2                                         En espiral   \n",
       "\n",
       "                                                 tex  \\\n",
       "0  A Patricia  Primero: Dibújate un interrogante ...   \n",
       "1  Números rojos  Subí la apuesta a que te bajaba...   \n",
       "2  Sufro una crisis de infertilidad, y ya no sé c...   \n",
       "\n",
       "                                              tex_en  \\\n",
       "0  A Patricia first: Draw a question on the lips ...   \n",
       "1  Red numbers I went up the bet that lowered you...   \n",
       "2  I suffer a crisis of infertility, and I do not...   \n",
       "\n",
       "                                              tok_en  \\\n",
       "0  patricia draw question lip match white disbeli...   \n",
       "1  red number go bet lower pant end buy battery c...   \n",
       "2  suffer crisis infertility know lethargy mascot...   \n",
       "\n",
       "                                          sentiments  polaridad  subjetividad  \\\n",
       "0  [0.04540816326530611, 0.3739795918367347, 0.23...   0.045408      0.373980   \n",
       "1  [0.09999999999999999, 0.38571428571428573, 0.1...   0.100000      0.385714   \n",
       "2  [-0.03958333333333334, 0.6124999999999999, 0.2...  -0.039583      0.612500   \n",
       "\n",
       "     neg    neu    pos  compound  \n",
       "0  0.234  0.582  0.185   -0.8454  \n",
       "1  0.107  0.556  0.338    0.9393  \n",
       "2  0.293  0.560  0.147   -0.8720  "
      ]
     },
     "execution_count": 15,
     "metadata": {},
     "output_type": "execute_result"
    }
   ],
   "source": [
    "textos_en.head(3)"
   ]
  },
  {
   "cell_type": "code",
   "execution_count": 16,
   "id": "a2ffd101",
   "metadata": {},
   "outputs": [],
   "source": [
    "text_sent = textos_en\n",
    "text_sent.to_csv(\"export/text_sent.csv\")"
   ]
  },
  {
   "cell_type": "code",
   "execution_count": null,
   "id": "729e30b5",
   "metadata": {},
   "outputs": [],
   "source": []
  }
 ],
 "metadata": {
  "kernelspec": {
   "display_name": "ironhack",
   "language": "python",
   "name": "ironhack"
  },
  "language_info": {
   "codemirror_mode": {
    "name": "ipython",
    "version": 3
   },
   "file_extension": ".py",
   "mimetype": "text/x-python",
   "name": "python",
   "nbconvert_exporter": "python",
   "pygments_lexer": "ipython3",
   "version": "3.8.5"
  }
 },
 "nbformat": 4,
 "nbformat_minor": 5
}
