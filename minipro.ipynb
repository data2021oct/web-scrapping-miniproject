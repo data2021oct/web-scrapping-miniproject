{
 "cells": [
  {
   "cell_type": "code",
   "execution_count": 2,
   "id": "b65866e5",
   "metadata": {},
   "outputs": [
    {
     "name": "stderr",
     "output_type": "stream",
     "text": [
      "[nltk_data] Downloading package vader_lexicon to\n",
      "[nltk_data]     /home/sinatxe/nltk_data...\n",
      "[nltk_data]   Package vader_lexicon is already up-to-date!\n"
     ]
    }
   ],
   "source": [
    "import requests\n",
    "from selenium import webdriver\n",
    "from time import sleep\n",
    "from selenium.webdriver.chrome.options import Options\n",
    "from webdriver_manager.chrome import ChromeDriverManager\n",
    "import pandas as pd\n",
    "import string\n",
    "import spacy\n",
    "from nltk.corpus import stopwords\n",
    "from langdetect import detect\n",
    "import re\n",
    "from googletrans import Translator\n",
    "import googletrans\n",
    "trans = Translator()\n",
    "from textblob import TextBlob\n",
    "import nltk\n",
    "nltk.downloader.download('vader_lexicon')\n",
    "from nltk.sentiment.vader import SentimentIntensityAnalyzer\n",
    "import numpy as np"
   ]
  },
  {
   "cell_type": "code",
   "execution_count": 2,
   "id": "837e6478",
   "metadata": {},
   "outputs": [],
   "source": [
    "#driver = webdriver.Chrome(ChromeDriverManager().install(), options = opciones)\n",
    "opciones=Options()\n",
    "\n",
    "opciones.add_experimental_option('excludeSwitches', ['enable-automation'])\n",
    "opciones.add_experimental_option('useAutomationExtension', False)\n",
    "\n",
    "opciones.headless=False    # si True, no aperece la ventana (headless=no visible)\n",
    "\n",
    "opciones.add_argument('--start-maximized')         # comienza maximizado\n",
    "\n",
    "#opciones.add_argument('user-data-dir=selenium')    # mantiene las cookies\n",
    "\n",
    "#opciones.add_extension('driver_folder/adblock.crx')       # adblocker\n",
    "\n",
    "opciones.add_argument('--incognito') "
   ]
  },
  {
   "cell_type": "code",
   "execution_count": 3,
   "id": "2ee4bba8",
   "metadata": {
    "scrolled": true
   },
   "outputs": [
    {
     "name": "stderr",
     "output_type": "stream",
     "text": [
      "<ipython-input-3-00f320552e41>:2: DeprecationWarning: executable_path has been deprecated, please pass in a Service object\n",
      "  driver = webdriver.Chrome(driver,options = opciones)\n",
      "<ipython-input-3-00f320552e41>:7: DeprecationWarning: find_element_by_* commands are deprecated. Please use find_element() instead\n",
      "  driver.find_element_by_css_selector(\"#cookieChoiceDismiss\").click()\n",
      "<ipython-input-3-00f320552e41>:15: DeprecationWarning: find_element_by_* commands are deprecated. Please use find_element() instead\n",
      "  tit.append(driver.find_element_by_css_selector(f\"#Blog1 > div.blog-posts.hfeed > div:nth-child({p}) > div > div.post-outer > div > h3 > a\").text)\n",
      "<ipython-input-3-00f320552e41>:17: DeprecationWarning: find_element_by_* commands are deprecated. Please use find_element() instead\n",
      "  texto.append(driver.find_element_by_css_selector(f\"#Blog1 > div.blog-posts.hfeed > div:nth-child({p}) > div > div.post-outer > div\").text)\n",
      "<ipython-input-3-00f320552e41>:18: DeprecationWarning: find_element_by_* commands are deprecated. Please use find_element() instead\n",
      "  driver.find_element_by_css_selector(\"#blog-pager-older-link\").click()\n"
     ]
    }
   ],
   "source": [
    "driver = \"./chromedriver.exe\"\n",
    "driver = webdriver.Chrome(driver,options = opciones)\n",
    "\n",
    "url2 = \"http://estersinatxe.blogspot.com/\"\n",
    "driver.get(url2)\n",
    "driver.implicitly_wait(2)\n",
    "driver.find_element_by_css_selector(\"#cookieChoiceDismiss\").click()\n",
    "\n",
    "tit = []\n",
    "texto = []\n",
    "\n",
    "for i in range(1,8): \n",
    "    try:\n",
    "        for p in range(1,8):\n",
    "            tit.append(driver.find_element_by_css_selector(f\"#Blog1 > div.blog-posts.hfeed > div:nth-child({p}) > div > div.post-outer > div > h3 > a\").text)\n",
    "            \n",
    "            texto.append(driver.find_element_by_css_selector(f\"#Blog1 > div.blog-posts.hfeed > div:nth-child({p}) > div > div.post-outer > div\").text)\n",
    "        driver.find_element_by_css_selector(\"#blog-pager-older-link\").click()\n",
    "\n",
    "    except:\n",
    "        texto.append(\"no data\")\n",
    "driver.quit()"
   ]
  },
  {
   "cell_type": "code",
   "execution_count": 4,
   "id": "9c9bc029",
   "metadata": {},
   "outputs": [
    {
     "data": {
      "text/plain": [
       "(50, 49)"
      ]
     },
     "execution_count": 4,
     "metadata": {},
     "output_type": "execute_result"
    }
   ],
   "source": [
    "len(texto),len(tit)"
   ]
  },
  {
   "cell_type": "code",
   "execution_count": 5,
   "id": "d0384bea",
   "metadata": {},
   "outputs": [],
   "source": [
    "textos = []\n",
    "for t in texto[:-1]:\n",
    "    s = t.split(\"\\n\")\n",
    "    ind = s.index(\"Enviar por correo electrónico\")\n",
    "    firma = s[1:ind-1] #auitamos el título\n",
    "    if \"Ester Sinatxe\" in firma:\n",
    "        inddos = firma.index(\"Ester Sinatxe\")\n",
    "        text_def = firma[1:inddos]\n",
    "        textos.append(\" \".join(text_def).strip())\n",
    "    else:\n",
    "        textos.append(\" \".join(firma).strip())\n"
   ]
  },
  {
   "cell_type": "code",
   "execution_count": 6,
   "id": "aca04b69",
   "metadata": {},
   "outputs": [
    {
     "data": {
      "text/plain": [
       "'Hace cinco años, tres meses y diecisiete días que no cuento las horas que me quedan para vernos. Hace miles de hojas en blanco que no escribo porque no me das las ganas. Hace viento que se lleva las palabras.  Nos hicimos a imagen y semejanza de nuestro reflejo en los charcos. Nos deshicimos desesperando por los 5 minutos tarde que siempre llega la oportunidad.  Hubo un día en el que abrimos el libro por el final para leer un parasiempre que dejamos arder a 451 °F. Hubo un día en el que perdimos el tiempo apostando por la rutina. Hubo un día en el que congelamos las sobras de todo lo que nos hacía falta.  Ayer le dimos la espalda a la noche para no ver llegar el mañana.  Hoy celebro otro feliz no aniversario sin quererte ni pastas.   Ester Sinatxe.'"
      ]
     },
     "execution_count": 6,
     "metadata": {},
     "output_type": "execute_result"
    }
   ],
   "source": [
    "textos[30]"
   ]
  },
  {
   "cell_type": "code",
   "execution_count": 7,
   "id": "8f55d1ef",
   "metadata": {},
   "outputs": [],
   "source": [
    "listando = []\n",
    "for i in range(len(tit)):\n",
    "    dicc= {}\n",
    "    dicc[\"Titulo\"] = tit[i]\n",
    "    dicc[\"text\"] = textos[i]\n",
    "    listando.append(dicc)"
   ]
  },
  {
   "cell_type": "code",
   "execution_count": 8,
   "id": "fa92c1c6",
   "metadata": {},
   "outputs": [],
   "source": [
    "textos_df = pd.DataFrame(listando)"
   ]
  },
  {
   "cell_type": "code",
   "execution_count": 9,
   "id": "8334ec3a",
   "metadata": {
    "scrolled": false
   },
   "outputs": [
    {
     "data": {
      "text/html": [
       "<div>\n",
       "<style scoped>\n",
       "    .dataframe tbody tr th:only-of-type {\n",
       "        vertical-align: middle;\n",
       "    }\n",
       "\n",
       "    .dataframe tbody tr th {\n",
       "        vertical-align: top;\n",
       "    }\n",
       "\n",
       "    .dataframe thead th {\n",
       "        text-align: right;\n",
       "    }\n",
       "</style>\n",
       "<table border=\"1\" class=\"dataframe\">\n",
       "  <thead>\n",
       "    <tr style=\"text-align: right;\">\n",
       "      <th></th>\n",
       "      <th>Titulo</th>\n",
       "      <th>text</th>\n",
       "    </tr>\n",
       "  </thead>\n",
       "  <tbody>\n",
       "    <tr>\n",
       "      <th>0</th>\n",
       "      <td>Cómo despedirse de alguien, a quien ya no salu...</td>\n",
       "      <td>A Patricia  Primero: Dibújate un interrogante ...</td>\n",
       "    </tr>\n",
       "    <tr>\n",
       "      <th>1</th>\n",
       "      <td>Números rojos</td>\n",
       "      <td>Números rojos  Subí la apuesta a que te bajaba...</td>\n",
       "    </tr>\n",
       "    <tr>\n",
       "      <th>2</th>\n",
       "      <td>En espiral</td>\n",
       "      <td>Sufro una crisis de infertilidad, y ya no sé c...</td>\n",
       "    </tr>\n",
       "  </tbody>\n",
       "</table>\n",
       "</div>"
      ],
      "text/plain": [
       "                                              Titulo  \\\n",
       "0  Cómo despedirse de alguien, a quien ya no salu...   \n",
       "1                                      Números rojos   \n",
       "2                                         En espiral   \n",
       "\n",
       "                                                text  \n",
       "0  A Patricia  Primero: Dibújate un interrogante ...  \n",
       "1  Números rojos  Subí la apuesta a que te bajaba...  \n",
       "2  Sufro una crisis de infertilidad, y ya no sé c...  "
      ]
     },
     "execution_count": 9,
     "metadata": {},
     "output_type": "execute_result"
    }
   ],
   "source": [
    "textos_df.head(3)"
   ]
  },
  {
   "cell_type": "code",
   "execution_count": 14,
   "id": "ba26ebe4",
   "metadata": {},
   "outputs": [],
   "source": [
    "\n",
    "def english(col):\n",
    "    try:\n",
    "    \n",
    "        trad = trans.translate(col,dest=\"en\")\n",
    "        return trad.text\n",
    "    except:\n",
    "        return col"
   ]
  },
  {
   "cell_type": "code",
   "execution_count": 15,
   "id": "6d541686",
   "metadata": {},
   "outputs": [],
   "source": [
    "textos_df[\"english\"] = textos_df[\"text\"].apply(english)"
   ]
  },
  {
   "cell_type": "code",
   "execution_count": 52,
   "id": "b08e78a6",
   "metadata": {
    "scrolled": false
   },
   "outputs": [],
   "source": [
    "textos_df.rename(columns = {\"Titulo\":\"tit\",\"text\":\"tex\",\"english\":\"tex_en\"},inplace = True)"
   ]
  },
  {
   "cell_type": "code",
   "execution_count": 197,
   "id": "65be1b6b",
   "metadata": {
    "scrolled": false
   },
   "outputs": [
    {
     "data": {
      "text/html": [
       "<div>\n",
       "<style scoped>\n",
       "    .dataframe tbody tr th:only-of-type {\n",
       "        vertical-align: middle;\n",
       "    }\n",
       "\n",
       "    .dataframe tbody tr th {\n",
       "        vertical-align: top;\n",
       "    }\n",
       "\n",
       "    .dataframe thead th {\n",
       "        text-align: right;\n",
       "    }\n",
       "</style>\n",
       "<table border=\"1\" class=\"dataframe\">\n",
       "  <thead>\n",
       "    <tr style=\"text-align: right;\">\n",
       "      <th></th>\n",
       "      <th>tit</th>\n",
       "      <th>tex</th>\n",
       "      <th>tex_en</th>\n",
       "      <th>tok_en</th>\n",
       "      <th>sentiments</th>\n",
       "      <th>blobpol</th>\n",
       "    </tr>\n",
       "  </thead>\n",
       "  <tbody>\n",
       "    <tr>\n",
       "      <th>0</th>\n",
       "      <td>Cómo despedirse de alguien, a quien ya no salu...</td>\n",
       "      <td>A Patricia  Primero: Dibújate un interrogante ...</td>\n",
       "      <td>A Patricia first: Draw a question on the lips ...</td>\n",
       "      <td>patricia draw question lip match white disbeli...</td>\n",
       "      <td>[0.04540816326530611, 0.3739795918367347, 0.23...</td>\n",
       "      <td>0.045408</td>\n",
       "    </tr>\n",
       "    <tr>\n",
       "      <th>1</th>\n",
       "      <td>Números rojos</td>\n",
       "      <td>Números rojos  Subí la apuesta a que te bajaba...</td>\n",
       "      <td>Red numbers I went up the bet that lowered you...</td>\n",
       "      <td>red number go bet lower pant end buy battery c...</td>\n",
       "      <td>[0.09999999999999999, 0.38571428571428573, 0.1...</td>\n",
       "      <td>0.100000</td>\n",
       "    </tr>\n",
       "    <tr>\n",
       "      <th>2</th>\n",
       "      <td>En espiral</td>\n",
       "      <td>Sufro una crisis de infertilidad, y ya no sé c...</td>\n",
       "      <td>I suffer a crisis of infertility, and I do not...</td>\n",
       "      <td>suffer crisis infertility know lethargy mascot...</td>\n",
       "      <td>[-0.03958333333333334, 0.6124999999999999, 0.2...</td>\n",
       "      <td>-0.039583</td>\n",
       "    </tr>\n",
       "    <tr>\n",
       "      <th>3</th>\n",
       "      <td>En mis recuerdos</td>\n",
       "      <td>En mis recuerdos siempre hay un cenicero, ropa...</td>\n",
       "      <td>In my memories there is always an ashtray, dir...</td>\n",
       "      <td>memory ashtray dirty clothe floor clock lose t...</td>\n",
       "      <td>[-0.22999999999999998, 0.6399999999999999, 0.2...</td>\n",
       "      <td>-0.230000</td>\n",
       "    </tr>\n",
       "    <tr>\n",
       "      <th>4</th>\n",
       "      <td>Aquel rojo</td>\n",
       "      <td>Me he vuelto a malpintar las uñas de aquel roj...</td>\n",
       "      <td>I have returned to mischiece the nails of that...</td>\n",
       "      <td>return mischiece nail red combine underwear fi...</td>\n",
       "      <td>[-0.16666666666666666, 0.5555555555555555, 0.0...</td>\n",
       "      <td>-0.166667</td>\n",
       "    </tr>\n",
       "  </tbody>\n",
       "</table>\n",
       "</div>"
      ],
      "text/plain": [
       "                                                 tit  \\\n",
       "0  Cómo despedirse de alguien, a quien ya no salu...   \n",
       "1                                      Números rojos   \n",
       "2                                         En espiral   \n",
       "3                                   En mis recuerdos   \n",
       "4                                         Aquel rojo   \n",
       "\n",
       "                                                 tex  \\\n",
       "0  A Patricia  Primero: Dibújate un interrogante ...   \n",
       "1  Números rojos  Subí la apuesta a que te bajaba...   \n",
       "2  Sufro una crisis de infertilidad, y ya no sé c...   \n",
       "3  En mis recuerdos siempre hay un cenicero, ropa...   \n",
       "4  Me he vuelto a malpintar las uñas de aquel roj...   \n",
       "\n",
       "                                              tex_en  \\\n",
       "0  A Patricia first: Draw a question on the lips ...   \n",
       "1  Red numbers I went up the bet that lowered you...   \n",
       "2  I suffer a crisis of infertility, and I do not...   \n",
       "3  In my memories there is always an ashtray, dir...   \n",
       "4  I have returned to mischiece the nails of that...   \n",
       "\n",
       "                                              tok_en  \\\n",
       "0  patricia draw question lip match white disbeli...   \n",
       "1  red number go bet lower pant end buy battery c...   \n",
       "2  suffer crisis infertility know lethargy mascot...   \n",
       "3  memory ashtray dirty clothe floor clock lose t...   \n",
       "4  return mischiece nail red combine underwear fi...   \n",
       "\n",
       "                                          sentiments   blobpol  \n",
       "0  [0.04540816326530611, 0.3739795918367347, 0.23...  0.045408  \n",
       "1  [0.09999999999999999, 0.38571428571428573, 0.1...  0.100000  \n",
       "2  [-0.03958333333333334, 0.6124999999999999, 0.2... -0.039583  \n",
       "3  [-0.22999999999999998, 0.6399999999999999, 0.2... -0.230000  \n",
       "4  [-0.16666666666666666, 0.5555555555555555, 0.0... -0.166667  "
      ]
     },
     "execution_count": 197,
     "metadata": {},
     "output_type": "execute_result"
    }
   ],
   "source": [
    "textos_df.head()"
   ]
  },
  {
   "cell_type": "markdown",
   "id": "4d94248f",
   "metadata": {},
   "source": [
    "- instalar python -m spacy download es_core_news_sm\n",
    "- instalar python -m spacy download en_core_news_sm\n"
   ]
  },
  {
   "cell_type": "code",
   "execution_count": 54,
   "id": "e5bf31c4",
   "metadata": {},
   "outputs": [],
   "source": [
    "nlp = spacy.load(\"en_core_web_sm\")\n",
    "nlp_es = spacy.load(\"es_core_news_sm\")"
   ]
  },
  {
   "cell_type": "code",
   "execution_count": null,
   "id": "f9977c2a",
   "metadata": {},
   "outputs": [],
   "source": [
    "# trans = Translator()\n",
    "# esp = \"que tengas un buen day\"\n",
    "# en = trans.translate(esp, dest=\"en\")\n",
    "# print(en.text)\n",
    "\n",
    "# trans = Translator(service_urls=['translate.googleapis.com'])\n",
    "# textil = textos_df.text[0]\n",
    "# textil_en = trans.translate(textil,dest=\"en\")\n",
    "# print(textil_en.text)"
   ]
  },
  {
   "cell_type": "code",
   "execution_count": 55,
   "id": "85cb5498",
   "metadata": {},
   "outputs": [],
   "source": [
    "stop_es = nlp_es.Defaults.stop_words\n",
    "stop = nlp.Defaults.stop_words"
   ]
  },
  {
   "cell_type": "code",
   "execution_count": null,
   "id": "0d763d00",
   "metadata": {},
   "outputs": [],
   "source": [
    "# tok = nlp_es(textil)\n",
    "# filtro = []\n",
    "# for t in tok:\n",
    "#     if not t.is_stop:\n",
    "#         lemma = t.lemma_.lower().strip()\n",
    "#         if re.search('^[a-zA-Z]+$',lemma):\n",
    "#             filtro.append(trans.translate(lemma,dest=\"en\").text)\n",
    "# textillo = \" \".join(filtro)\n"
   ]
  },
  {
   "cell_type": "code",
   "execution_count": 56,
   "id": "d587f2c0",
   "metadata": {},
   "outputs": [],
   "source": [
    "def tokenizer (txt):    \n",
    "    tokens = nlp(txt)\n",
    "    filtradas = []\n",
    "    for token in tokens:\n",
    "        if not token.is_stop:\n",
    "            lemma = token.lemma_.lower().strip()\n",
    "            if re.search('^[a-zA-Z]+$',lemma): # Esto me quita las interrogaciones\n",
    "                filtradas.append(lemma)\n",
    "    return \" \".join(filtradas)"
   ]
  },
  {
   "cell_type": "code",
   "execution_count": 202,
   "id": "a3380a06",
   "metadata": {},
   "outputs": [
    {
     "data": {
      "text/html": [
       "<div>\n",
       "<style scoped>\n",
       "    .dataframe tbody tr th:only-of-type {\n",
       "        vertical-align: middle;\n",
       "    }\n",
       "\n",
       "    .dataframe tbody tr th {\n",
       "        vertical-align: top;\n",
       "    }\n",
       "\n",
       "    .dataframe thead th {\n",
       "        text-align: right;\n",
       "    }\n",
       "</style>\n",
       "<table border=\"1\" class=\"dataframe\">\n",
       "  <thead>\n",
       "    <tr style=\"text-align: right;\">\n",
       "      <th></th>\n",
       "      <th>tit</th>\n",
       "      <th>tex</th>\n",
       "      <th>tex_en</th>\n",
       "      <th>tok_en</th>\n",
       "    </tr>\n",
       "  </thead>\n",
       "  <tbody>\n",
       "    <tr>\n",
       "      <th>0</th>\n",
       "      <td>Cómo despedirse de alguien, a quien ya no salu...</td>\n",
       "      <td>A Patricia  Primero: Dibújate un interrogante ...</td>\n",
       "      <td>A Patricia first: Draw a question on the lips ...</td>\n",
       "      <td>patricia draw question lip match white disbeli...</td>\n",
       "    </tr>\n",
       "    <tr>\n",
       "      <th>1</th>\n",
       "      <td>Números rojos</td>\n",
       "      <td>Números rojos  Subí la apuesta a que te bajaba...</td>\n",
       "      <td>Red numbers I went up the bet that lowered you...</td>\n",
       "      <td>red number go bet lower pant end buy battery c...</td>\n",
       "    </tr>\n",
       "    <tr>\n",
       "      <th>2</th>\n",
       "      <td>En espiral</td>\n",
       "      <td>Sufro una crisis de infertilidad, y ya no sé c...</td>\n",
       "      <td>I suffer a crisis of infertility, and I do not...</td>\n",
       "      <td>suffer crisis infertility know lethargy mascot...</td>\n",
       "    </tr>\n",
       "  </tbody>\n",
       "</table>\n",
       "</div>"
      ],
      "text/plain": [
       "                                                 tit  \\\n",
       "0  Cómo despedirse de alguien, a quien ya no salu...   \n",
       "1                                      Números rojos   \n",
       "2                                         En espiral   \n",
       "\n",
       "                                                 tex  \\\n",
       "0  A Patricia  Primero: Dibújate un interrogante ...   \n",
       "1  Números rojos  Subí la apuesta a que te bajaba...   \n",
       "2  Sufro una crisis de infertilidad, y ya no sé c...   \n",
       "\n",
       "                                              tex_en  \\\n",
       "0  A Patricia first: Draw a question on the lips ...   \n",
       "1  Red numbers I went up the bet that lowered you...   \n",
       "2  I suffer a crisis of infertility, and I do not...   \n",
       "\n",
       "                                              tok_en  \n",
       "0  patricia draw question lip match white disbeli...  \n",
       "1  red number go bet lower pant end buy battery c...  \n",
       "2  suffer crisis infertility know lethargy mascot...  "
      ]
     },
     "execution_count": 202,
     "metadata": {},
     "output_type": "execute_result"
    }
   ],
   "source": [
    "textos_df.head(3)"
   ]
  },
  {
   "cell_type": "code",
   "execution_count": 203,
   "id": "acc8a654",
   "metadata": {},
   "outputs": [],
   "source": [
    "textos_df[\"tok_en\"] = textos_df.tex_en.apply(tokenizer)"
   ]
  },
  {
   "cell_type": "code",
   "execution_count": 206,
   "id": "60f5bbb9",
   "metadata": {},
   "outputs": [
    {
     "data": {
      "text/html": [
       "<div>\n",
       "<style scoped>\n",
       "    .dataframe tbody tr th:only-of-type {\n",
       "        vertical-align: middle;\n",
       "    }\n",
       "\n",
       "    .dataframe tbody tr th {\n",
       "        vertical-align: top;\n",
       "    }\n",
       "\n",
       "    .dataframe thead th {\n",
       "        text-align: right;\n",
       "    }\n",
       "</style>\n",
       "<table border=\"1\" class=\"dataframe\">\n",
       "  <thead>\n",
       "    <tr style=\"text-align: right;\">\n",
       "      <th></th>\n",
       "      <th>tit</th>\n",
       "      <th>tex</th>\n",
       "      <th>tex_en</th>\n",
       "      <th>tok_en</th>\n",
       "    </tr>\n",
       "  </thead>\n",
       "  <tbody>\n",
       "    <tr>\n",
       "      <th>0</th>\n",
       "      <td>Cómo despedirse de alguien, a quien ya no salu...</td>\n",
       "      <td>A Patricia  Primero: Dibújate un interrogante ...</td>\n",
       "      <td>A Patricia first: Draw a question on the lips ...</td>\n",
       "      <td>patricia draw question lip match white disbeli...</td>\n",
       "    </tr>\n",
       "    <tr>\n",
       "      <th>1</th>\n",
       "      <td>Números rojos</td>\n",
       "      <td>Números rojos  Subí la apuesta a que te bajaba...</td>\n",
       "      <td>Red numbers I went up the bet that lowered you...</td>\n",
       "      <td>red number go bet lower pant end buy battery c...</td>\n",
       "    </tr>\n",
       "    <tr>\n",
       "      <th>2</th>\n",
       "      <td>En espiral</td>\n",
       "      <td>Sufro una crisis de infertilidad, y ya no sé c...</td>\n",
       "      <td>I suffer a crisis of infertility, and I do not...</td>\n",
       "      <td>suffer crisis infertility know lethargy mascot...</td>\n",
       "    </tr>\n",
       "  </tbody>\n",
       "</table>\n",
       "</div>"
      ],
      "text/plain": [
       "                                                 tit  \\\n",
       "0  Cómo despedirse de alguien, a quien ya no salu...   \n",
       "1                                      Números rojos   \n",
       "2                                         En espiral   \n",
       "\n",
       "                                                 tex  \\\n",
       "0  A Patricia  Primero: Dibújate un interrogante ...   \n",
       "1  Números rojos  Subí la apuesta a que te bajaba...   \n",
       "2  Sufro una crisis de infertilidad, y ya no sé c...   \n",
       "\n",
       "                                              tex_en  \\\n",
       "0  A Patricia first: Draw a question on the lips ...   \n",
       "1  Red numbers I went up the bet that lowered you...   \n",
       "2  I suffer a crisis of infertility, and I do not...   \n",
       "\n",
       "                                              tok_en  \n",
       "0  patricia draw question lip match white disbeli...  \n",
       "1  red number go bet lower pant end buy battery c...  \n",
       "2  suffer crisis infertility know lethargy mascot...  "
      ]
     },
     "execution_count": 206,
     "metadata": {},
     "output_type": "execute_result"
    }
   ],
   "source": [
    "textos_df.head(3)"
   ]
  },
  {
   "cell_type": "code",
   "execution_count": 204,
   "id": "e10900d7",
   "metadata": {},
   "outputs": [],
   "source": [
    "textos_en = pd.DataFrame(textos_df)"
   ]
  },
  {
   "cell_type": "code",
   "execution_count": 205,
   "id": "e711e185",
   "metadata": {},
   "outputs": [
    {
     "data": {
      "text/html": [
       "<div>\n",
       "<style scoped>\n",
       "    .dataframe tbody tr th:only-of-type {\n",
       "        vertical-align: middle;\n",
       "    }\n",
       "\n",
       "    .dataframe tbody tr th {\n",
       "        vertical-align: top;\n",
       "    }\n",
       "\n",
       "    .dataframe thead th {\n",
       "        text-align: right;\n",
       "    }\n",
       "</style>\n",
       "<table border=\"1\" class=\"dataframe\">\n",
       "  <thead>\n",
       "    <tr style=\"text-align: right;\">\n",
       "      <th></th>\n",
       "      <th>tit</th>\n",
       "      <th>tex</th>\n",
       "      <th>tex_en</th>\n",
       "      <th>tok_en</th>\n",
       "    </tr>\n",
       "  </thead>\n",
       "  <tbody>\n",
       "    <tr>\n",
       "      <th>0</th>\n",
       "      <td>Cómo despedirse de alguien, a quien ya no salu...</td>\n",
       "      <td>A Patricia  Primero: Dibújate un interrogante ...</td>\n",
       "      <td>A Patricia first: Draw a question on the lips ...</td>\n",
       "      <td>patricia draw question lip match white disbeli...</td>\n",
       "    </tr>\n",
       "    <tr>\n",
       "      <th>1</th>\n",
       "      <td>Números rojos</td>\n",
       "      <td>Números rojos  Subí la apuesta a que te bajaba...</td>\n",
       "      <td>Red numbers I went up the bet that lowered you...</td>\n",
       "      <td>red number go bet lower pant end buy battery c...</td>\n",
       "    </tr>\n",
       "    <tr>\n",
       "      <th>2</th>\n",
       "      <td>En espiral</td>\n",
       "      <td>Sufro una crisis de infertilidad, y ya no sé c...</td>\n",
       "      <td>I suffer a crisis of infertility, and I do not...</td>\n",
       "      <td>suffer crisis infertility know lethargy mascot...</td>\n",
       "    </tr>\n",
       "  </tbody>\n",
       "</table>\n",
       "</div>"
      ],
      "text/plain": [
       "                                                 tit  \\\n",
       "0  Cómo despedirse de alguien, a quien ya no salu...   \n",
       "1                                      Números rojos   \n",
       "2                                         En espiral   \n",
       "\n",
       "                                                 tex  \\\n",
       "0  A Patricia  Primero: Dibújate un interrogante ...   \n",
       "1  Números rojos  Subí la apuesta a que te bajaba...   \n",
       "2  Sufro una crisis de infertilidad, y ya no sé c...   \n",
       "\n",
       "                                              tex_en  \\\n",
       "0  A Patricia first: Draw a question on the lips ...   \n",
       "1  Red numbers I went up the bet that lowered you...   \n",
       "2  I suffer a crisis of infertility, and I do not...   \n",
       "\n",
       "                                              tok_en  \n",
       "0  patricia draw question lip match white disbeli...  \n",
       "1  red number go bet lower pant end buy battery c...  \n",
       "2  suffer crisis infertility know lethargy mascot...  "
      ]
     },
     "execution_count": 205,
     "metadata": {},
     "output_type": "execute_result"
    }
   ],
   "source": [
    "textos_en.head(3)"
   ]
  },
  {
   "cell_type": "code",
   "execution_count": 186,
   "id": "239d4a84",
   "metadata": {
    "scrolled": false
   },
   "outputs": [],
   "source": [
    "#textos_en.to_csv(\"data/text_en.csv\")"
   ]
  },
  {
   "cell_type": "code",
   "execution_count": 248,
   "id": "a33247bd",
   "metadata": {},
   "outputs": [],
   "source": [
    "def sentimental(col):\n",
    "    total = []\n",
    "    \n",
    "    blob = TextBlob(col)\n",
    "    total.append(blob.sentiment[0])\n",
    "    total.append(blob.sentiment[1])\n",
    "    \n",
    "    sia = SentimentIntensityAnalyzer()\n",
    "    polaridad = sia.polarity_scores(col)\n",
    "    total.append(polaridad[\"neg\"])\n",
    "    total.append(polaridad[\"neu\"])\n",
    "    total.append(polaridad[\"pos\"])\n",
    "    total.append(polaridad[\"compound\"])\n",
    "    return total"
   ]
  },
  {
   "cell_type": "code",
   "execution_count": 249,
   "id": "ea124486",
   "metadata": {},
   "outputs": [],
   "source": [
    "textos_en[\"sentiments\"] = textos_en.tok_en.apply(sentimental)"
   ]
  },
  {
   "cell_type": "code",
   "execution_count": 250,
   "id": "f33f0d0f",
   "metadata": {},
   "outputs": [
    {
     "data": {
      "text/html": [
       "<div>\n",
       "<style scoped>\n",
       "    .dataframe tbody tr th:only-of-type {\n",
       "        vertical-align: middle;\n",
       "    }\n",
       "\n",
       "    .dataframe tbody tr th {\n",
       "        vertical-align: top;\n",
       "    }\n",
       "\n",
       "    .dataframe thead th {\n",
       "        text-align: right;\n",
       "    }\n",
       "</style>\n",
       "<table border=\"1\" class=\"dataframe\">\n",
       "  <thead>\n",
       "    <tr style=\"text-align: right;\">\n",
       "      <th></th>\n",
       "      <th>tit</th>\n",
       "      <th>tex</th>\n",
       "      <th>tex_en</th>\n",
       "      <th>tok_en</th>\n",
       "      <th>sentiments</th>\n",
       "    </tr>\n",
       "  </thead>\n",
       "  <tbody>\n",
       "    <tr>\n",
       "      <th>0</th>\n",
       "      <td>Cómo despedirse de alguien, a quien ya no salu...</td>\n",
       "      <td>A Patricia  Primero: Dibújate un interrogante ...</td>\n",
       "      <td>A Patricia first: Draw a question on the lips ...</td>\n",
       "      <td>patricia draw question lip match white disbeli...</td>\n",
       "      <td>[0.04540816326530611, 0.3739795918367347, 0.23...</td>\n",
       "    </tr>\n",
       "    <tr>\n",
       "      <th>1</th>\n",
       "      <td>Números rojos</td>\n",
       "      <td>Números rojos  Subí la apuesta a que te bajaba...</td>\n",
       "      <td>Red numbers I went up the bet that lowered you...</td>\n",
       "      <td>red number go bet lower pant end buy battery c...</td>\n",
       "      <td>[0.09999999999999999, 0.38571428571428573, 0.1...</td>\n",
       "    </tr>\n",
       "    <tr>\n",
       "      <th>2</th>\n",
       "      <td>En espiral</td>\n",
       "      <td>Sufro una crisis de infertilidad, y ya no sé c...</td>\n",
       "      <td>I suffer a crisis of infertility, and I do not...</td>\n",
       "      <td>suffer crisis infertility know lethargy mascot...</td>\n",
       "      <td>[-0.03958333333333334, 0.6124999999999999, 0.2...</td>\n",
       "    </tr>\n",
       "  </tbody>\n",
       "</table>\n",
       "</div>"
      ],
      "text/plain": [
       "                                                 tit  \\\n",
       "0  Cómo despedirse de alguien, a quien ya no salu...   \n",
       "1                                      Números rojos   \n",
       "2                                         En espiral   \n",
       "\n",
       "                                                 tex  \\\n",
       "0  A Patricia  Primero: Dibújate un interrogante ...   \n",
       "1  Números rojos  Subí la apuesta a que te bajaba...   \n",
       "2  Sufro una crisis de infertilidad, y ya no sé c...   \n",
       "\n",
       "                                              tex_en  \\\n",
       "0  A Patricia first: Draw a question on the lips ...   \n",
       "1  Red numbers I went up the bet that lowered you...   \n",
       "2  I suffer a crisis of infertility, and I do not...   \n",
       "\n",
       "                                              tok_en  \\\n",
       "0  patricia draw question lip match white disbeli...   \n",
       "1  red number go bet lower pant end buy battery c...   \n",
       "2  suffer crisis infertility know lethargy mascot...   \n",
       "\n",
       "                                          sentiments  \n",
       "0  [0.04540816326530611, 0.3739795918367347, 0.23...  \n",
       "1  [0.09999999999999999, 0.38571428571428573, 0.1...  \n",
       "2  [-0.03958333333333334, 0.6124999999999999, 0.2...  "
      ]
     },
     "execution_count": 250,
     "metadata": {},
     "output_type": "execute_result"
    }
   ],
   "source": [
    "textos_en.head(3)"
   ]
  },
  {
   "cell_type": "code",
   "execution_count": 251,
   "id": "3d7ab4f1",
   "metadata": {},
   "outputs": [],
   "source": [
    "text_sent = textos_en\n",
    "#text_sent.to_csv(\"data/text_sent.csv\")"
   ]
  },
  {
   "cell_type": "code",
   "execution_count": 268,
   "id": "7f439576",
   "metadata": {
    "scrolled": false
   },
   "outputs": [],
   "source": [
    "\n",
    "def blobping(col):\n",
    "    total = []    \n",
    "    blob = TextBlob(col)\n",
    "    total.append(blob.sentiment[0])\n",
    "    return total[0]\n",
    "\n",
    "text_sent[\"blobpol\"] = text_sent[\"tok_en\"].apply(blobping)\n"
   ]
  },
  {
   "cell_type": "code",
   "execution_count": 271,
   "id": "53ad9bf7",
   "metadata": {},
   "outputs": [],
   "source": [
    "def blobsubing(col):\n",
    "    total = []    \n",
    "    blob = TextBlob(col)\n",
    "    total.append(blob.sentiment[1])\n",
    "    return total[0]\n",
    "\n",
    "text_sent[\"blobsub\"] = text_sent[\"tok_en\"].apply(blobsubing)"
   ]
  },
  {
   "cell_type": "code",
   "execution_count": 273,
   "id": "079bce8e",
   "metadata": {},
   "outputs": [],
   "source": [
    "def sianeging(col):\n",
    "    total = []\n",
    "    sia = SentimentIntensityAnalyzer()\n",
    "    polaridad = sia.polarity_scores(col)\n",
    "    total.append(polaridad[\"neg\"])\n",
    "    return total[0]\n",
    "\n",
    "text_sent[\"sianeg\"] = text_sent[\"tok_en\"].apply(sianeging)"
   ]
  },
  {
   "cell_type": "code",
   "execution_count": 275,
   "id": "be8d3bf0",
   "metadata": {},
   "outputs": [],
   "source": [
    "def sianeuing(col):\n",
    "    total = []\n",
    "    sia = SentimentIntensityAnalyzer()\n",
    "    polaridad = sia.polarity_scores(col)\n",
    "    total.append(polaridad[\"neu\"])\n",
    "    return total[0]\n",
    "\n",
    "text_sent[\"sianeu\"] = text_sent[\"tok_en\"].apply(sianeuing)"
   ]
  },
  {
   "cell_type": "code",
   "execution_count": 277,
   "id": "b6b2aa89",
   "metadata": {},
   "outputs": [],
   "source": [
    "def siaposing(col):\n",
    "    total = []\n",
    "    sia = SentimentIntensityAnalyzer()\n",
    "    polaridad = sia.polarity_scores(col)\n",
    "    total.append(polaridad[\"pos\"])\n",
    "    return total[0]\n",
    "\n",
    "text_sent[\"siapos\"] = text_sent[\"tok_en\"].apply(siaposing)"
   ]
  },
  {
   "cell_type": "code",
   "execution_count": 279,
   "id": "646226a7",
   "metadata": {},
   "outputs": [],
   "source": [
    "def siacomping(col):\n",
    "    total = []\n",
    "    sia = SentimentIntensityAnalyzer()\n",
    "    polaridad = sia.polarity_scores(col)\n",
    "    total.append(polaridad[\"compound\"])\n",
    "    return total[0]\n",
    "\n",
    "text_sent[\"siacomp\"] = text_sent[\"tok_en\"].apply(siacomping)"
   ]
  },
  {
   "cell_type": "code",
   "execution_count": 29,
   "id": "1c012898",
   "metadata": {},
   "outputs": [],
   "source": [
    "text_compound = text_sent\n",
    "#text_compound.to_csv(\"data/text_compound.csv\",index=False)"
   ]
  },
  {
   "cell_type": "code",
   "execution_count": 9,
   "id": "0c4b3d67",
   "metadata": {},
   "outputs": [],
   "source": [
    "text_compound.drop(\"num_pal\",axis=1,inplace=True)"
   ]
  },
  {
   "cell_type": "code",
   "execution_count": 10,
   "id": "fecf6230",
   "metadata": {},
   "outputs": [],
   "source": [
    "def cuentastok():\n",
    "    tot = []\n",
    "    for t in text_compound[\"tex\"]:\n",
    "        tot.append(len(t.split(\" \")))\n",
    "    return tot\n",
    "text_compound[\"num_pal\"] = cuentastok()\n"
   ]
  },
  {
   "cell_type": "code",
   "execution_count": 11,
   "id": "4108d704",
   "metadata": {},
   "outputs": [],
   "source": [
    "text_compound.to_csv(\"data/text_compound.csv\",index=False)"
   ]
  },
  {
   "cell_type": "code",
   "execution_count": null,
   "id": "ae0059d0",
   "metadata": {},
   "outputs": [],
   "source": []
  }
 ],
 "metadata": {
  "kernelspec": {
   "display_name": "ironhack",
   "language": "python",
   "name": "ironhack"
  },
  "language_info": {
   "codemirror_mode": {
    "name": "ipython",
    "version": 3
   },
   "file_extension": ".py",
   "mimetype": "text/x-python",
   "name": "python",
   "nbconvert_exporter": "python",
   "pygments_lexer": "ipython3",
   "version": "3.8.5"
  }
 },
 "nbformat": 4,
 "nbformat_minor": 5
}
