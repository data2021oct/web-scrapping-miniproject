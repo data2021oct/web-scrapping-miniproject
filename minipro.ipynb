{
 "cells": [
  {
   "cell_type": "code",
   "execution_count": 77,
   "id": "b65866e5",
   "metadata": {},
   "outputs": [
    {
     "name": "stderr",
     "output_type": "stream",
     "text": [
      "[nltk_data] Downloading package vader_lexicon to\n",
      "[nltk_data]     /home/sinatxe/nltk_data...\n",
      "[nltk_data]   Package vader_lexicon is already up-to-date!\n"
     ]
    }
   ],
   "source": [
    "import requests\n",
    "from selenium import webdriver\n",
    "from time import sleep\n",
    "from selenium.webdriver.chrome.options import Options\n",
    "from webdriver_manager.chrome import ChromeDriverManager\n",
    "import pandas as pd\n",
    "import string\n",
    "import spacy\n",
    "from nltk.corpus import stopwords\n",
    "from langdetect import detect\n",
    "import re\n",
    "from googletrans import Translator\n",
    "#from google_trans_new import google_translator\n",
    "import googletrans\n",
    "trans = Translator()\n",
    "from textblob import TextBlob\n",
    "import nltk\n",
    "nltk.downloader.download('vader_lexicon')\n",
    "from nltk.sentiment.vader import SentimentIntensityAnalyzer"
   ]
  },
  {
   "cell_type": "code",
   "execution_count": 2,
   "id": "837e6478",
   "metadata": {},
   "outputs": [],
   "source": [
    "#driver = webdriver.Chrome(ChromeDriverManager().install(), options = opciones)\n",
    "opciones=Options()\n",
    "\n",
    "opciones.add_experimental_option('excludeSwitches', ['enable-automation'])\n",
    "opciones.add_experimental_option('useAutomationExtension', False)\n",
    "\n",
    "opciones.headless=False    # si True, no aperece la ventana (headless=no visible)\n",
    "\n",
    "opciones.add_argument('--start-maximized')         # comienza maximizado\n",
    "\n",
    "#opciones.add_argument('user-data-dir=selenium')    # mantiene las cookies\n",
    "\n",
    "#opciones.add_extension('driver_folder/adblock.crx')       # adblocker\n",
    "\n",
    "opciones.add_argument('--incognito') "
   ]
  },
  {
   "cell_type": "code",
   "execution_count": 3,
   "id": "2ee4bba8",
   "metadata": {
    "scrolled": true
   },
   "outputs": [
    {
     "name": "stderr",
     "output_type": "stream",
     "text": [
      "<ipython-input-3-00f320552e41>:2: DeprecationWarning: executable_path has been deprecated, please pass in a Service object\n",
      "  driver = webdriver.Chrome(driver,options = opciones)\n",
      "<ipython-input-3-00f320552e41>:7: DeprecationWarning: find_element_by_* commands are deprecated. Please use find_element() instead\n",
      "  driver.find_element_by_css_selector(\"#cookieChoiceDismiss\").click()\n",
      "<ipython-input-3-00f320552e41>:15: DeprecationWarning: find_element_by_* commands are deprecated. Please use find_element() instead\n",
      "  tit.append(driver.find_element_by_css_selector(f\"#Blog1 > div.blog-posts.hfeed > div:nth-child({p}) > div > div.post-outer > div > h3 > a\").text)\n",
      "<ipython-input-3-00f320552e41>:17: DeprecationWarning: find_element_by_* commands are deprecated. Please use find_element() instead\n",
      "  texto.append(driver.find_element_by_css_selector(f\"#Blog1 > div.blog-posts.hfeed > div:nth-child({p}) > div > div.post-outer > div\").text)\n",
      "<ipython-input-3-00f320552e41>:18: DeprecationWarning: find_element_by_* commands are deprecated. Please use find_element() instead\n",
      "  driver.find_element_by_css_selector(\"#blog-pager-older-link\").click()\n"
     ]
    }
   ],
   "source": [
    "driver = \"./chromedriver.exe\"\n",
    "driver = webdriver.Chrome(driver,options = opciones)\n",
    "\n",
    "url2 = \"http://estersinatxe.blogspot.com/\"\n",
    "driver.get(url2)\n",
    "driver.implicitly_wait(2)\n",
    "driver.find_element_by_css_selector(\"#cookieChoiceDismiss\").click()\n",
    "\n",
    "tit = []\n",
    "texto = []\n",
    "\n",
    "for i in range(1,8): \n",
    "    try:\n",
    "        for p in range(1,8):\n",
    "            tit.append(driver.find_element_by_css_selector(f\"#Blog1 > div.blog-posts.hfeed > div:nth-child({p}) > div > div.post-outer > div > h3 > a\").text)\n",
    "            \n",
    "            texto.append(driver.find_element_by_css_selector(f\"#Blog1 > div.blog-posts.hfeed > div:nth-child({p}) > div > div.post-outer > div\").text)\n",
    "        driver.find_element_by_css_selector(\"#blog-pager-older-link\").click()\n",
    "\n",
    "    except:\n",
    "        texto.append(\"no data\")\n",
    "driver.quit()"
   ]
  },
  {
   "cell_type": "code",
   "execution_count": 4,
   "id": "9c9bc029",
   "metadata": {},
   "outputs": [
    {
     "data": {
      "text/plain": [
       "(50, 49)"
      ]
     },
     "execution_count": 4,
     "metadata": {},
     "output_type": "execute_result"
    }
   ],
   "source": [
    "len(texto),len(tit)"
   ]
  },
  {
   "cell_type": "code",
   "execution_count": 5,
   "id": "d0384bea",
   "metadata": {},
   "outputs": [],
   "source": [
    "textos = []\n",
    "for t in texto[:-1]:\n",
    "    s = t.split(\"\\n\")\n",
    "    ind = s.index(\"Enviar por correo electrónico\")\n",
    "    firma = s[1:ind-1] #auitamos el título\n",
    "    if \"Ester Sinatxe\" in firma:\n",
    "        inddos = firma.index(\"Ester Sinatxe\")\n",
    "        text_def = firma[1:inddos]\n",
    "        textos.append(\" \".join(text_def).strip())\n",
    "    else:\n",
    "        textos.append(\" \".join(firma).strip())\n"
   ]
  },
  {
   "cell_type": "code",
   "execution_count": 6,
   "id": "aca04b69",
   "metadata": {},
   "outputs": [
    {
     "data": {
      "text/plain": [
       "'Hace cinco años, tres meses y diecisiete días que no cuento las horas que me quedan para vernos. Hace miles de hojas en blanco que no escribo porque no me das las ganas. Hace viento que se lleva las palabras.  Nos hicimos a imagen y semejanza de nuestro reflejo en los charcos. Nos deshicimos desesperando por los 5 minutos tarde que siempre llega la oportunidad.  Hubo un día en el que abrimos el libro por el final para leer un parasiempre que dejamos arder a 451 °F. Hubo un día en el que perdimos el tiempo apostando por la rutina. Hubo un día en el que congelamos las sobras de todo lo que nos hacía falta.  Ayer le dimos la espalda a la noche para no ver llegar el mañana.  Hoy celebro otro feliz no aniversario sin quererte ni pastas.   Ester Sinatxe.'"
      ]
     },
     "execution_count": 6,
     "metadata": {},
     "output_type": "execute_result"
    }
   ],
   "source": [
    "textos[30]"
   ]
  },
  {
   "cell_type": "code",
   "execution_count": 7,
   "id": "8f55d1ef",
   "metadata": {},
   "outputs": [],
   "source": [
    "listando = []\n",
    "for i in range(len(tit)):\n",
    "    dicc= {}\n",
    "    dicc[\"Titulo\"] = tit[i]\n",
    "    dicc[\"text\"] = textos[i]\n",
    "    listando.append(dicc)"
   ]
  },
  {
   "cell_type": "code",
   "execution_count": 8,
   "id": "fa92c1c6",
   "metadata": {},
   "outputs": [],
   "source": [
    "textos_df = pd.DataFrame(listando)"
   ]
  },
  {
   "cell_type": "code",
   "execution_count": 9,
   "id": "8334ec3a",
   "metadata": {
    "scrolled": false
   },
   "outputs": [
    {
     "data": {
      "text/html": [
       "<div>\n",
       "<style scoped>\n",
       "    .dataframe tbody tr th:only-of-type {\n",
       "        vertical-align: middle;\n",
       "    }\n",
       "\n",
       "    .dataframe tbody tr th {\n",
       "        vertical-align: top;\n",
       "    }\n",
       "\n",
       "    .dataframe thead th {\n",
       "        text-align: right;\n",
       "    }\n",
       "</style>\n",
       "<table border=\"1\" class=\"dataframe\">\n",
       "  <thead>\n",
       "    <tr style=\"text-align: right;\">\n",
       "      <th></th>\n",
       "      <th>Titulo</th>\n",
       "      <th>text</th>\n",
       "    </tr>\n",
       "  </thead>\n",
       "  <tbody>\n",
       "    <tr>\n",
       "      <th>0</th>\n",
       "      <td>Cómo despedirse de alguien, a quien ya no salu...</td>\n",
       "      <td>A Patricia  Primero: Dibújate un interrogante ...</td>\n",
       "    </tr>\n",
       "    <tr>\n",
       "      <th>1</th>\n",
       "      <td>Números rojos</td>\n",
       "      <td>Números rojos  Subí la apuesta a que te bajaba...</td>\n",
       "    </tr>\n",
       "    <tr>\n",
       "      <th>2</th>\n",
       "      <td>En espiral</td>\n",
       "      <td>Sufro una crisis de infertilidad, y ya no sé c...</td>\n",
       "    </tr>\n",
       "  </tbody>\n",
       "</table>\n",
       "</div>"
      ],
      "text/plain": [
       "                                              Titulo  \\\n",
       "0  Cómo despedirse de alguien, a quien ya no salu...   \n",
       "1                                      Números rojos   \n",
       "2                                         En espiral   \n",
       "\n",
       "                                                text  \n",
       "0  A Patricia  Primero: Dibújate un interrogante ...  \n",
       "1  Números rojos  Subí la apuesta a que te bajaba...  \n",
       "2  Sufro una crisis de infertilidad, y ya no sé c...  "
      ]
     },
     "execution_count": 9,
     "metadata": {},
     "output_type": "execute_result"
    }
   ],
   "source": [
    "textos_df.head(3)"
   ]
  },
  {
   "cell_type": "code",
   "execution_count": 14,
   "id": "ba26ebe4",
   "metadata": {},
   "outputs": [],
   "source": [
    "\n",
    "def english(col):\n",
    "    try:\n",
    "    \n",
    "        trad = trans.translate(col,dest=\"en\")\n",
    "        return trad.text\n",
    "    except:\n",
    "        return col"
   ]
  },
  {
   "cell_type": "code",
   "execution_count": 15,
   "id": "6d541686",
   "metadata": {},
   "outputs": [],
   "source": [
    "textos_df[\"english\"] = textos_df[\"text\"].apply(english)"
   ]
  },
  {
   "cell_type": "code",
   "execution_count": 52,
   "id": "7f592c33",
   "metadata": {
    "scrolled": false
   },
   "outputs": [],
   "source": [
    "textos_df.rename(columns = {\"Titulo\":\"tit\",\"text\":\"tex\",\"english\":\"tex_en\"},inplace = True)"
   ]
  },
  {
   "cell_type": "code",
   "execution_count": 53,
   "id": "65535c9a",
   "metadata": {
    "scrolled": false
   },
   "outputs": [
    {
     "data": {
      "text/html": [
       "<div>\n",
       "<style scoped>\n",
       "    .dataframe tbody tr th:only-of-type {\n",
       "        vertical-align: middle;\n",
       "    }\n",
       "\n",
       "    .dataframe tbody tr th {\n",
       "        vertical-align: top;\n",
       "    }\n",
       "\n",
       "    .dataframe thead th {\n",
       "        text-align: right;\n",
       "    }\n",
       "</style>\n",
       "<table border=\"1\" class=\"dataframe\">\n",
       "  <thead>\n",
       "    <tr style=\"text-align: right;\">\n",
       "      <th></th>\n",
       "      <th>tit</th>\n",
       "      <th>tex</th>\n",
       "      <th>tex_en</th>\n",
       "    </tr>\n",
       "  </thead>\n",
       "  <tbody>\n",
       "    <tr>\n",
       "      <th>0</th>\n",
       "      <td>Cómo despedirse de alguien, a quien ya no salu...</td>\n",
       "      <td>A Patricia  Primero: Dibújate un interrogante ...</td>\n",
       "      <td>A Patricia first: Draw a question on the lips ...</td>\n",
       "    </tr>\n",
       "    <tr>\n",
       "      <th>1</th>\n",
       "      <td>Números rojos</td>\n",
       "      <td>Números rojos  Subí la apuesta a que te bajaba...</td>\n",
       "      <td>Red numbers I went up the bet that lowered you...</td>\n",
       "    </tr>\n",
       "    <tr>\n",
       "      <th>2</th>\n",
       "      <td>En espiral</td>\n",
       "      <td>Sufro una crisis de infertilidad, y ya no sé c...</td>\n",
       "      <td>I suffer a crisis of infertility, and I do not...</td>\n",
       "    </tr>\n",
       "    <tr>\n",
       "      <th>3</th>\n",
       "      <td>En mis recuerdos</td>\n",
       "      <td>En mis recuerdos siempre hay un cenicero, ropa...</td>\n",
       "      <td>In my memories there is always an ashtray, dir...</td>\n",
       "    </tr>\n",
       "    <tr>\n",
       "      <th>4</th>\n",
       "      <td>Aquel rojo</td>\n",
       "      <td>Me he vuelto a malpintar las uñas de aquel roj...</td>\n",
       "      <td>I have returned to mischiece the nails of that...</td>\n",
       "    </tr>\n",
       "  </tbody>\n",
       "</table>\n",
       "</div>"
      ],
      "text/plain": [
       "                                                 tit  \\\n",
       "0  Cómo despedirse de alguien, a quien ya no salu...   \n",
       "1                                      Números rojos   \n",
       "2                                         En espiral   \n",
       "3                                   En mis recuerdos   \n",
       "4                                         Aquel rojo   \n",
       "\n",
       "                                                 tex  \\\n",
       "0  A Patricia  Primero: Dibújate un interrogante ...   \n",
       "1  Números rojos  Subí la apuesta a que te bajaba...   \n",
       "2  Sufro una crisis de infertilidad, y ya no sé c...   \n",
       "3  En mis recuerdos siempre hay un cenicero, ropa...   \n",
       "4  Me he vuelto a malpintar las uñas de aquel roj...   \n",
       "\n",
       "                                              tex_en  \n",
       "0  A Patricia first: Draw a question on the lips ...  \n",
       "1  Red numbers I went up the bet that lowered you...  \n",
       "2  I suffer a crisis of infertility, and I do not...  \n",
       "3  In my memories there is always an ashtray, dir...  \n",
       "4  I have returned to mischiece the nails of that...  "
      ]
     },
     "execution_count": 53,
     "metadata": {},
     "output_type": "execute_result"
    }
   ],
   "source": [
    "textos_df.head()"
   ]
  },
  {
   "cell_type": "markdown",
   "id": "4d94248f",
   "metadata": {},
   "source": [
    "- instalar python -m spacy download es_core_news_sm\n",
    "- instalar python -m spacy download en_core_news_sm\n"
   ]
  },
  {
   "cell_type": "code",
   "execution_count": 54,
   "id": "e5bf31c4",
   "metadata": {},
   "outputs": [],
   "source": [
    "nlp = spacy.load(\"en_core_web_sm\")\n",
    "nlp_es = spacy.load(\"es_core_news_sm\")"
   ]
  },
  {
   "cell_type": "code",
   "execution_count": null,
   "id": "f9977c2a",
   "metadata": {},
   "outputs": [],
   "source": [
    "# trans = Translator()\n",
    "# esp = \"que tengas un buen day\"\n",
    "# en = trans.translate(esp, dest=\"en\")\n",
    "# print(en.text)\n",
    "\n",
    "# trans = Translator(service_urls=['translate.googleapis.com'])\n",
    "# textil = textos_df.text[0]\n",
    "# textil_en = trans.translate(textil,dest=\"en\")\n",
    "# print(textil_en.text)"
   ]
  },
  {
   "cell_type": "code",
   "execution_count": 55,
   "id": "85cb5498",
   "metadata": {},
   "outputs": [],
   "source": [
    "stop_es = nlp_es.Defaults.stop_words\n",
    "stop = nlp.Defaults.stop_words"
   ]
  },
  {
   "cell_type": "code",
   "execution_count": null,
   "id": "0d763d00",
   "metadata": {},
   "outputs": [],
   "source": [
    "# tok = nlp_es(textil)\n",
    "# filtro = []\n",
    "# for t in tok:\n",
    "#     if not t.is_stop:\n",
    "#         lemma = t.lemma_.lower().strip()\n",
    "#         if re.search('^[a-zA-Z]+$',lemma):\n",
    "#             filtro.append(trans.translate(lemma,dest=\"en\").text)\n",
    "# textillo = \" \".join(filtro)\n"
   ]
  },
  {
   "cell_type": "code",
   "execution_count": 56,
   "id": "0417e602",
   "metadata": {},
   "outputs": [],
   "source": [
    "def tokenizer (txt):    \n",
    "    tokens = nlp(txt)\n",
    "    filtradas = []\n",
    "    for token in tokens:\n",
    "        if not token.is_stop:\n",
    "            lemma = token.lemma_.lower().strip()\n",
    "            if re.search('^[a-zA-Z]+$',lemma): # Esto me quita las interrogaciones\n",
    "                filtradas.append(lemma)\n",
    "    return \" \".join(filtradas)"
   ]
  },
  {
   "cell_type": "code",
   "execution_count": 57,
   "id": "acc8a654",
   "metadata": {},
   "outputs": [],
   "source": [
    "textos_df[\"tok_en\"] = textos_df.tex_en.apply(tokenizer)"
   ]
  },
  {
   "cell_type": "code",
   "execution_count": 61,
   "id": "b29e7da3",
   "metadata": {},
   "outputs": [],
   "source": [
    "textos_en = pd.DataFrame(textos_df)"
   ]
  },
  {
   "cell_type": "code",
   "execution_count": 66,
   "id": "239d4a84",
   "metadata": {
    "scrolled": false
   },
   "outputs": [],
   "source": [
    "textos_en.to_csv(\"data/text_en.csv\")"
   ]
  },
  {
   "cell_type": "code",
   "execution_count": 95,
   "id": "1f207a23",
   "metadata": {},
   "outputs": [],
   "source": [
    "def blobpol(col):\n",
    "    total = []\n",
    "    \n",
    "    blob = TextBlob(col)\n",
    "    total.append(blob.sentiment[0])\n",
    "    total.append(blob.sentiment[1])\n",
    "    \n",
    "    sia = SentimentIntensityAnalyzer()\n",
    "    polaridad = sia.polarity_scores(col)\n",
    "    total.append(polaridad[\"neg\"])\n",
    "    total.append(polaridad[\"neu\"])\n",
    "    total.append(polaridad[\"pos\"])\n",
    "    total.append(polaridad[\"compound\"])\n",
    "    return total"
   ]
  },
  {
   "cell_type": "code",
   "execution_count": 96,
   "id": "53b71c98",
   "metadata": {},
   "outputs": [],
   "source": [
    "textos_en[\"sentiments\"] = textos_en.tok_en.apply(blobpol)"
   ]
  },
  {
   "cell_type": "code",
   "execution_count": 102,
   "id": "91ac4825",
   "metadata": {},
   "outputs": [],
   "source": [
    "text_sent = textos_en\n",
    "text_sent.to_csv(\"data/text_sent.csv\")"
   ]
  },
  {
   "cell_type": "code",
   "execution_count": 100,
   "id": "b8e88139",
   "metadata": {},
   "outputs": [],
   "source": []
  },
  {
   "cell_type": "code",
   "execution_count": null,
   "id": "ad80d55e",
   "metadata": {},
   "outputs": [],
   "source": []
  }
 ],
 "metadata": {
  "kernelspec": {
   "display_name": "ironhack",
   "language": "python",
   "name": "ironhack"
  },
  "language_info": {
   "codemirror_mode": {
    "name": "ipython",
    "version": 3
   },
   "file_extension": ".py",
   "mimetype": "text/x-python",
   "name": "python",
   "nbconvert_exporter": "python",
   "pygments_lexer": "ipython3",
   "version": "3.8.5"
  }
 },
 "nbformat": 4,
 "nbformat_minor": 5
}
